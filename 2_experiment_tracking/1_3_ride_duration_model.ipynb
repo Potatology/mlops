{
 "cells": [
  {
   "cell_type": "code",
   "execution_count": 4,
   "id": "8ac71f15",
   "metadata": {},
   "outputs": [
    {
     "name": "stdout",
     "output_type": "stream",
     "text": [
      "Python 3.9.12\r\n"
     ]
    }
   ],
   "source": [
    "!python -V"
   ]
  },
  {
   "cell_type": "code",
   "execution_count": 5,
   "id": "4bc35644",
   "metadata": {},
   "outputs": [],
   "source": [
    "#In this notebook:\n",
    "# 1 - we load and prepare data\n",
    "# 2 - we vectorize categorical data\n",
    "# 3 - we train model"
   ]
  },
  {
   "cell_type": "code",
   "execution_count": 6,
   "id": "958abeb7",
   "metadata": {},
   "outputs": [],
   "source": [
    "import pandas as pd\n",
    "import seaborn as sns\n",
    "import matplotlib.pyplot as plt\n",
    "import pickle"
   ]
  },
  {
   "cell_type": "code",
   "execution_count": 7,
   "id": "7af57b92",
   "metadata": {},
   "outputs": [],
   "source": [
    "from sklearn.feature_extraction import DictVectorizer\n",
    "from sklearn.linear_model import LinearRegression\n",
    "from sklearn.linear_model import Lasso\n",
    "from sklearn.linear_model import Ridge\n",
    "from sklearn.metrics import mean_squared_error"
   ]
  },
  {
   "cell_type": "code",
   "execution_count": 8,
   "id": "279b9258",
   "metadata": {},
   "outputs": [
    {
     "data": {
      "text/plain": [
       "<Experiment: artifact_location='./mlruns/1', creation_time=1742848426446, experiment_id='1', last_update_time=1742848426446, lifecycle_stage='active', name='nyc-experiment', tags={}>"
      ]
     },
     "execution_count": 8,
     "metadata": {},
     "output_type": "execute_result"
    }
   ],
   "source": [
    "import mlflow\n",
    "\n",
    "mlflow.set_tracking_uri(\"sqlite:///mlflow.db\")\n",
    "mlflow.set_experiment(\"nyc-experiment\")"
   ]
  },
  {
   "cell_type": "code",
   "execution_count": 9,
   "id": "d1f4f1e6",
   "metadata": {},
   "outputs": [],
   "source": [
    "def read_dataframe(filename):\n",
    "    #load file\n",
    "    df = pd.read_parquet(filename)\n",
    "    #convert column to datetime type\n",
    "    df.lpep_dropoff_datetime = pd.to_datetime(df.lpep_dropoff_datetime)\n",
    "    #convert column to datetime type\n",
    "    df.lpep_pickup_datetime = pd.to_datetime(df.lpep_pickup_datetime)\n",
    "    #creates column duration which is difference dropoff time - pickup time\n",
    "    df['duration'] = df.lpep_dropoff_datetime - df.lpep_pickup_datetime\n",
    "    #td == Timedelta. This converts it into seconds and / 60 making it minutes\n",
    "    df.duration = df.duration.apply(lambda td:td.total_seconds() / 60)\n",
    "    #Drop outliers by:\n",
    "    #Filter dataframe and reassign to all rows that contain duration btw 1 min and 60 min\n",
    "    df = df[(df.duration >= 1) & (df.duration <= 60)]\n",
    "    #assign variables for numerical and categorical data in dataset for further\n",
    "    #one hotting categorical data\n",
    "    categorical = ['PULocationID','DOLocationID']\n",
    "    numerical = ['trip_distance']\n",
    "    #categorical must be str objects in pandas\n",
    "    df[categorical] = df[categorical].astype(str)\n",
    "    return df"
   ]
  },
  {
   "cell_type": "code",
   "execution_count": 10,
   "id": "c13b6d0f",
   "metadata": {},
   "outputs": [],
   "source": [
    "#assign train and validation datasets\n",
    "df_train = read_dataframe('../data/green_tripdata_2021-01.parquet')\n",
    "df_val = read_dataframe('../data/green_tripdata_2021-02.parquet')"
   ]
  },
  {
   "cell_type": "code",
   "execution_count": 11,
   "id": "3ef03cb6",
   "metadata": {},
   "outputs": [
    {
     "data": {
      "text/plain": [
       "(73908, 61921)"
      ]
     },
     "execution_count": 11,
     "metadata": {},
     "output_type": "execute_result"
    }
   ],
   "source": [
    "#check sizes of datasets\n",
    "len(df_train), len(df_val)"
   ]
  },
  {
   "cell_type": "code",
   "execution_count": 12,
   "id": "053da267",
   "metadata": {},
   "outputs": [],
   "source": [
    "#engineer feature to concatenate PU and DO times in 1 column\n",
    "df_train['PU_DO']= df_train['PULocationID'] + '_' + df_train['DOLocationID']\n",
    "df_val['PU_DO']= df_val['PULocationID'] + '_' + df_val['DOLocationID']"
   ]
  },
  {
   "cell_type": "code",
   "execution_count": 13,
   "id": "ed650ccf",
   "metadata": {},
   "outputs": [],
   "source": [
    "\n",
    "categorical = ['PU_DO']\n",
    "numerical = ['trip_distance']\n",
    "#dv will create one hot encoding for categorical data\n",
    "dv = DictVectorizer()\n",
    "#to make one hot dv needs data in dictionary format\n",
    "train_dicts = df_train[categorical + numerical].to_dict(orient='records')\n",
    "#dv is a model itself so it needs to learn data\n",
    "X_train = dv.fit_transform(train_dicts)\n",
    "#validation set can be transformed without learning\n",
    "val_dicts = df_val[categorical + numerical].to_dict(orient='records')\n",
    "X_val = dv.transform(val_dicts)"
   ]
  },
  {
   "cell_type": "code",
   "execution_count": 14,
   "id": "aff3ed71",
   "metadata": {},
   "outputs": [],
   "source": [
    "target = 'duration'\n",
    "y_train = df_train[target].values\n",
    "y_val = df_val[target].values"
   ]
  },
  {
   "cell_type": "code",
   "execution_count": 15,
   "id": "20564a42",
   "metadata": {},
   "outputs": [
    {
     "data": {
      "text/plain": [
       "7.479562160810692"
      ]
     },
     "execution_count": 15,
     "metadata": {},
     "output_type": "execute_result"
    }
   ],
   "source": [
    "lr = LinearRegression()\n",
    "lr.fit(X_train, y_train)\n",
    "\n",
    "y_pred = lr.predict(X_val)\n",
    "\n",
    "mean_squared_error(y_val, y_pred, squared=False)"
   ]
  },
  {
   "cell_type": "code",
   "execution_count": 16,
   "id": "40d08955",
   "metadata": {},
   "outputs": [
    {
     "data": {
      "image/png": "[encoded data removed]",
      "text/plain": [
       "<Figure size 432x288 with 1 Axes>"
      ]
     },
     "metadata": {
      "needs_background": "light"
     },
     "output_type": "display_data"
    }
   ],
   "source": [
    "sns.histplot(y_pred, label='prediction', kde=True, color='blue')\n",
    "sns.histplot(y_train, label='actual', kde=True, color='orange')\n",
    "plt.legend()  # Show labels\n",
    "plt.show()"
   ]
  },
  {
   "cell_type": "code",
   "execution_count": 17,
   "id": "cef68cc8",
   "metadata": {},
   "outputs": [],
   "source": [
    "#save model and datavectorizer to preserve training data\n",
    "with open('models/lin_reg.bin', 'wb') as f_out:\n",
    "    pickle.dump((dv, lr), f_out)"
   ]
  },
  {
   "cell_type": "code",
   "execution_count": 18,
   "id": "acacb9aa",
   "metadata": {},
   "outputs": [],
   "source": [
    "with mlflow.start_run():\n",
    "    \n",
    "    mlflow.set_tag(\"developer\", \"Vlad\")\n",
    "    \n",
    "    mlflow.log_param('train-data-path','../data/green_tripdata_2021-01.parquet')\n",
    "    mlflow.log_param('val-data-path','../data/green_tripdata_2021-02.parquet')\n",
    "\n",
    "    \n",
    "    alpha = 0.1\n",
    "    mlflow.log_param(\"alpha\",alpha)\n",
    "    \n",
    "    lr = Lasso(alpha)\n",
    "    lr.fit(X_train, y_train)\n",
    "\n",
    "    y_pred = lr.predict(X_val)\n",
    "\n",
    "    rmse = mean_squared_error(y_val, y_pred, squared=False)\n",
    "    mlflow.log_metric('rmse', rmse)"
   ]
  },
  {
   "cell_type": "code",
   "execution_count": 19,
   "id": "3987577c",
   "metadata": {},
   "outputs": [],
   "source": [
    "import xgboost as xgb\n"
   ]
  },
  {
   "cell_type": "code",
   "execution_count": 20,
   "id": "7bf2dd08",
   "metadata": {},
   "outputs": [],
   "source": [
    "from hyperopt import fmin, tpe, hp, STATUS_OK, Trials\n",
    "from hyperopt.pyll import scope"
   ]
  },
  {
   "cell_type": "code",
   "execution_count": 21,
   "id": "8a10b975",
   "metadata": {},
   "outputs": [],
   "source": [
    "train = xgb.DMatrix(X_train, label=y_train)\n",
    "valid = xgb.DMatrix(X_val, label=y_val)"
   ]
  },
  {
   "cell_type": "code",
   "execution_count": 22,
   "id": "c31d31a4",
   "metadata": {},
   "outputs": [],
   "source": [
    "def objective(params):\n",
    "    with mlflow.start_run():\n",
    "        mlflow.set_tag(\"model\", \"xgboost\")\n",
    "        mlflow.log_params(params)\n",
    "        booster = xgb.train(\n",
    "            params=params,\n",
    "            dtrain=train,\n",
    "            num_boost_round=20,\n",
    "            evals=[(valid, 'validation')],\n",
    "            early_stopping_rounds=5\n",
    "        )\n",
    "        y_pred = booster.predict(valid)\n",
    "        rmse = mean_squared_error(y_val, y_pred, squared=False)\n",
    "        mlflow.log_metric(\"rmse\", rmse)\n",
    "\n",
    "    return {'loss': rmse, 'status': STATUS_OK}"
   ]
  },
  {
   "cell_type": "code",
   "execution_count": 23,
   "id": "b0d50cd2",
   "metadata": {},
   "outputs": [
    {
     "name": "stdout",
     "output_type": "stream",
     "text": [
      "[0]\tvalidation-rmse:9.72283                                                                                                  \n",
      "  0%|                                                                                 | 0/50 [00:00<?, ?trial/s, best loss=?]"
     ]
    },
    {
     "name": "stderr",
     "output_type": "stream",
     "text": [
      "/home/codespace/anaconda3/lib/python3.9/site-packages/xgboost/core.py:158: UserWarning: [21:19:34] WARNING: /workspace/src/objective/regression_obj.cu:227: reg:linear is now deprecated in favor of reg:squarederror.\n",
      "  warnings.warn(smsg, UserWarning)\n",
      "\n"
     ]
    },
    {
     "name": "stdout",
     "output_type": "stream",
     "text": [
      "[1]\tvalidation-rmse:8.32292                                                                                                  \n",
      "[2]\tvalidation-rmse:7.58260                                                                                                  \n",
      "[3]\tvalidation-rmse:7.19072                                                                                                  \n",
      "[4]\tvalidation-rmse:6.98766                                                                                                  \n",
      "[5]\tvalidation-rmse:6.87828                                                                                                  \n",
      "[6]\tvalidation-rmse:6.82156                                                                                                  \n",
      "[7]\tvalidation-rmse:6.78615                                                                                                  \n",
      "[8]\tvalidation-rmse:6.76104                                                                                                  \n",
      "[9]\tvalidation-rmse:6.74744                                                                                                  \n",
      "[10]\tvalidation-rmse:6.73650                                                                                                 \n",
      "[11]\tvalidation-rmse:6.73159                                                                                                 \n",
      "[12]\tvalidation-rmse:6.72759                                                                                                 \n",
      "[13]\tvalidation-rmse:6.72388                                                                                                 \n",
      "[14]\tvalidation-rmse:6.72052                                                                                                 \n",
      "[15]\tvalidation-rmse:6.71797                                                                                                 \n",
      "[16]\tvalidation-rmse:6.71225                                                                                                 \n",
      "[17]\tvalidation-rmse:6.71142                                                                                                 \n",
      "[18]\tvalidation-rmse:6.70777                                                                                                 \n",
      "[19]\tvalidation-rmse:6.70611                                                                                                 \n",
      "  2%|█                                                       | 1/50 [00:01<01:31,  1.87s/trial, best loss: 6.706110027380418]"
     ]
    },
    {
     "name": "stderr",
     "output_type": "stream",
     "text": [
      "/home/codespace/anaconda3/lib/python3.9/site-packages/xgboost/core.py:158: UserWarning: [21:19:36] WARNING: /workspace/src/objective/regression_obj.cu:227: reg:linear is now deprecated in favor of reg:squarederror.\n",
      "  warnings.warn(smsg, UserWarning)\n",
      "\n"
     ]
    },
    {
     "name": "stdout",
     "output_type": "stream",
     "text": [
      "[0]\tvalidation-rmse:10.60592                                                                                                 \n",
      "[1]\tvalidation-rmse:9.43289                                                                                                  \n",
      "[2]\tvalidation-rmse:8.58976                                                                                                  \n",
      "[3]\tvalidation-rmse:7.99655                                                                                                  \n",
      "[4]\tvalidation-rmse:7.58342                                                                                                  \n",
      "[5]\tvalidation-rmse:7.29782                                                                                                  \n",
      "[6]\tvalidation-rmse:7.09960                                                                                                  \n",
      "[7]\tvalidation-rmse:6.96299                                                                                                  \n",
      "[8]\tvalidation-rmse:6.86388                                                                                                  \n",
      "[9]\tvalidation-rmse:6.79538                                                                                                  \n",
      "[10]\tvalidation-rmse:6.74621                                                                                                 \n",
      "[11]\tvalidation-rmse:6.71025                                                                                                 \n",
      "[12]\tvalidation-rmse:6.68310                                                                                                 \n",
      "[13]\tvalidation-rmse:6.66351                                                                                                 \n",
      "[14]\tvalidation-rmse:6.64892                                                                                                 \n",
      "[15]\tvalidation-rmse:6.63705                                                                                                 \n",
      "[16]\tvalidation-rmse:6.62632                                                                                                 \n",
      "[17]\tvalidation-rmse:6.61770                                                                                                 \n",
      "[18]\tvalidation-rmse:6.61022                                                                                                 \n",
      "[19]\tvalidation-rmse:6.60538                                                                                                 \n",
      "  4%|██▏                                                     | 2/50 [00:09<04:09,  5.19s/trial, best loss: 6.605380452443575]"
     ]
    },
    {
     "name": "stderr",
     "output_type": "stream",
     "text": [
      "/home/codespace/anaconda3/lib/python3.9/site-packages/xgboost/core.py:158: UserWarning: [21:19:44] WARNING: /workspace/src/objective/regression_obj.cu:227: reg:linear is now deprecated in favor of reg:squarederror.\n",
      "  warnings.warn(smsg, UserWarning)\n",
      "\n"
     ]
    },
    {
     "name": "stdout",
     "output_type": "stream",
     "text": [
      "[0]\tvalidation-rmse:8.41321                                                                                                  \n",
      "[1]\tvalidation-rmse:7.17193                                                                                                  \n",
      "[2]\tvalidation-rmse:6.79246                                                                                                  \n",
      "[3]\tvalidation-rmse:6.66043                                                                                                  \n",
      "[4]\tvalidation-rmse:6.60051                                                                                                  \n",
      "[5]\tvalidation-rmse:6.57217                                                                                                  \n",
      "[6]\tvalidation-rmse:6.55516                                                                                                  \n",
      "[7]\tvalidation-rmse:6.54353                                                                                                  \n",
      "[8]\tvalidation-rmse:6.53688                                                                                                  \n",
      "[9]\tvalidation-rmse:6.53193                                                                                                  \n",
      "[10]\tvalidation-rmse:6.52131                                                                                                 \n",
      "[11]\tvalidation-rmse:6.51674                                                                                                 \n",
      "[12]\tvalidation-rmse:6.51554                                                                                                 \n",
      "[13]\tvalidation-rmse:6.51116                                                                                                 \n",
      "[14]\tvalidation-rmse:6.50735                                                                                                 \n",
      "[15]\tvalidation-rmse:6.50580                                                                                                 \n",
      "[16]\tvalidation-rmse:6.50325                                                                                                 \n",
      "[17]\tvalidation-rmse:6.50191                                                                                                 \n",
      "[18]\tvalidation-rmse:6.49940                                                                                                 \n",
      "[19]\tvalidation-rmse:6.49703                                                                                                 \n",
      "  6%|███▎                                                    | 3/50 [00:18<05:33,  7.10s/trial, best loss: 6.497030622427024]"
     ]
    },
    {
     "name": "stderr",
     "output_type": "stream",
     "text": [
      "/home/codespace/anaconda3/lib/python3.9/site-packages/xgboost/core.py:158: UserWarning: [21:19:53] WARNING: /workspace/src/objective/regression_obj.cu:227: reg:linear is now deprecated in favor of reg:squarederror.\n",
      "  warnings.warn(smsg, UserWarning)\n",
      "\n"
     ]
    },
    {
     "name": "stdout",
     "output_type": "stream",
     "text": [
      "[0]\tvalidation-rmse:11.68109                                                                                                 \n",
      "[1]\tvalidation-rmse:11.19368                                                                                                 \n",
      "[2]\tvalidation-rmse:10.74797                                                                                                 \n",
      "[3]\tvalidation-rmse:10.34129                                                                                                 \n",
      "[4]\tvalidation-rmse:9.97077                                                                                                  \n",
      "[5]\tvalidation-rmse:9.63313                                                                                                  \n",
      "[6]\tvalidation-rmse:9.32687                                                                                                  \n",
      "[7]\tvalidation-rmse:9.04925                                                                                                  \n",
      "[8]\tvalidation-rmse:8.79787                                                                                                  \n",
      "[9]\tvalidation-rmse:8.56992                                                                                                  \n",
      "[10]\tvalidation-rmse:8.36463                                                                                                 \n",
      "[11]\tvalidation-rmse:8.17921                                                                                                 \n",
      "[12]\tvalidation-rmse:8.01267                                                                                                 \n",
      "[13]\tvalidation-rmse:7.86291                                                                                                 \n",
      "[14]\tvalidation-rmse:7.72827                                                                                                 \n",
      "[15]\tvalidation-rmse:7.60687                                                                                                 \n",
      "[16]\tvalidation-rmse:7.49853                                                                                                 \n",
      "[17]\tvalidation-rmse:7.40112                                                                                                 \n",
      "[18]\tvalidation-rmse:7.31397                                                                                                 \n",
      "[19]\tvalidation-rmse:7.23543                                                                                                 \n",
      "  8%|████▍                                                   | 4/50 [00:48<12:19, 16.08s/trial, best loss: 6.497030622427024]"
     ]
    },
    {
     "name": "stderr",
     "output_type": "stream",
     "text": [
      "/home/codespace/anaconda3/lib/python3.9/site-packages/xgboost/core.py:158: UserWarning: [21:20:23] WARNING: /workspace/src/objective/regression_obj.cu:227: reg:linear is now deprecated in favor of reg:squarederror.\n",
      "  warnings.warn(smsg, UserWarning)\n",
      "\n"
     ]
    },
    {
     "name": "stdout",
     "output_type": "stream",
     "text": [
      "[0]\tvalidation-rmse:9.29658                                                                                                  \n",
      "[1]\tvalidation-rmse:7.83853                                                                                                  \n",
      "[2]\tvalidation-rmse:7.15287                                                                                                  \n",
      "[3]\tvalidation-rmse:6.83384                                                                                                  \n",
      "[4]\tvalidation-rmse:6.67713                                                                                                  \n",
      "[5]\tvalidation-rmse:6.59661                                                                                                  \n",
      "[6]\tvalidation-rmse:6.55059                                                                                                  \n",
      "[7]\tvalidation-rmse:6.52596                                                                                                  \n",
      "[8]\tvalidation-rmse:6.50688                                                                                                  \n",
      "[9]\tvalidation-rmse:6.49497                                                                                                  \n",
      "[10]\tvalidation-rmse:6.49138                                                                                                 \n",
      "[11]\tvalidation-rmse:6.48454                                                                                                 \n",
      "[12]\tvalidation-rmse:6.48096                                                                                                 \n",
      "[13]\tvalidation-rmse:6.47595                                                                                                 \n",
      "[14]\tvalidation-rmse:6.47236                                                                                                 \n",
      "[15]\tvalidation-rmse:6.46894                                                                                                 \n",
      "[16]\tvalidation-rmse:6.46216                                                                                                 \n",
      "[17]\tvalidation-rmse:6.45887                                                                                                 \n",
      "[18]\tvalidation-rmse:6.45631                                                                                                 \n",
      "[19]\tvalidation-rmse:6.45440                                                                                                 \n",
      " 10%|█████▌                                                  | 5/50 [01:00<10:47, 14.40s/trial, best loss: 6.454398250421075]"
     ]
    },
    {
     "name": "stderr",
     "output_type": "stream",
     "text": [
      "/home/codespace/anaconda3/lib/python3.9/site-packages/xgboost/core.py:158: UserWarning: [21:20:34] WARNING: /workspace/src/objective/regression_obj.cu:227: reg:linear is now deprecated in favor of reg:squarederror.\n",
      "  warnings.warn(smsg, UserWarning)\n",
      "\n"
     ]
    },
    {
     "name": "stdout",
     "output_type": "stream",
     "text": [
      "[0]\tvalidation-rmse:7.33589                                                                                                  \n",
      "[1]\tvalidation-rmse:6.76557                                                                                                  \n",
      "[2]\tvalidation-rmse:6.67294                                                                                                  \n",
      "[3]\tvalidation-rmse:6.65112                                                                                                  \n",
      "[4]\tvalidation-rmse:6.63693                                                                                                  \n",
      "[5]\tvalidation-rmse:6.62295                                                                                                  \n",
      "[6]\tvalidation-rmse:6.61495                                                                                                  \n",
      "[7]\tvalidation-rmse:6.60855                                                                                                  \n",
      "[8]\tvalidation-rmse:6.60226                                                                                                  \n",
      "[9]\tvalidation-rmse:6.59717                                                                                                  \n",
      "[10]\tvalidation-rmse:6.59018                                                                                                 \n",
      "[11]\tvalidation-rmse:6.58734                                                                                                 \n",
      "[12]\tvalidation-rmse:6.58384                                                                                                 \n",
      "[13]\tvalidation-rmse:6.57786                                                                                                 \n",
      "[14]\tvalidation-rmse:6.57578                                                                                                 \n",
      "[15]\tvalidation-rmse:6.57337                                                                                                 \n",
      "[16]\tvalidation-rmse:6.57350                                                                                                 \n",
      "[17]\tvalidation-rmse:6.56958                                                                                                 \n",
      "[18]\tvalidation-rmse:6.56693                                                                                                 \n",
      "[19]\tvalidation-rmse:6.56212                                                                                                 \n",
      " 12%|██████▋                                                 | 6/50 [01:12<09:58, 13.60s/trial, best loss: 6.454398250421075]"
     ]
    },
    {
     "name": "stderr",
     "output_type": "stream",
     "text": [
      "/home/codespace/anaconda3/lib/python3.9/site-packages/xgboost/core.py:158: UserWarning: [21:20:47] WARNING: /workspace/src/objective/regression_obj.cu:227: reg:linear is now deprecated in favor of reg:squarederror.\n",
      "  warnings.warn(smsg, UserWarning)\n",
      "\n"
     ]
    },
    {
     "name": "stdout",
     "output_type": "stream",
     "text": [
      "[0]\tvalidation-rmse:11.77404                                                                                                 \n",
      "[1]\tvalidation-rmse:11.36499                                                                                                 \n",
      "[2]\tvalidation-rmse:10.98416                                                                                                 \n",
      "[3]\tvalidation-rmse:10.62967                                                                                                 \n",
      "[4]\tvalidation-rmse:10.30124                                                                                                 \n",
      "[5]\tvalidation-rmse:9.99554                                                                                                  \n",
      "[6]\tvalidation-rmse:9.71322                                                                                                  \n",
      "[7]\tvalidation-rmse:9.45160                                                                                                  \n",
      "[8]\tvalidation-rmse:9.20984                                                                                                  \n",
      "[9]\tvalidation-rmse:8.98473                                                                                                  \n",
      "[10]\tvalidation-rmse:8.77903                                                                                                 \n",
      "[11]\tvalidation-rmse:8.58868                                                                                                 \n",
      "[12]\tvalidation-rmse:8.41333                                                                                                 \n",
      "[13]\tvalidation-rmse:8.25162                                                                                                 \n",
      "[14]\tvalidation-rmse:8.10392                                                                                                 \n",
      "[15]\tvalidation-rmse:7.96739                                                                                                 \n",
      "[16]\tvalidation-rmse:7.84190                                                                                                 \n",
      "[17]\tvalidation-rmse:7.72655                                                                                                 \n",
      "[18]\tvalidation-rmse:7.62043                                                                                                 \n",
      "[19]\tvalidation-rmse:7.52406                                                                                                 \n",
      " 14%|███████▊                                                | 7/50 [02:50<29:41, 41.42s/trial, best loss: 6.454398250421075]"
     ]
    },
    {
     "name": "stderr",
     "output_type": "stream",
     "text": [
      "/home/codespace/anaconda3/lib/python3.9/site-packages/xgboost/core.py:158: UserWarning: [21:22:25] WARNING: /workspace/src/objective/regression_obj.cu:227: reg:linear is now deprecated in favor of reg:squarederror.\n",
      "  warnings.warn(smsg, UserWarning)\n",
      "\n"
     ]
    },
    {
     "name": "stdout",
     "output_type": "stream",
     "text": [
      "[0]\tvalidation-rmse:8.04719                                                                                                  \n",
      "[1]\tvalidation-rmse:6.99514                                                                                                  \n",
      "[2]\tvalidation-rmse:6.72363                                                                                                  \n",
      "[3]\tvalidation-rmse:6.65021                                                                                                  \n",
      "[4]\tvalidation-rmse:6.61908                                                                                                  \n",
      "[5]\tvalidation-rmse:6.61010                                                                                                  \n",
      "[6]\tvalidation-rmse:6.60044                                                                                                  \n",
      "[7]\tvalidation-rmse:6.59276                                                                                                  \n",
      "[8]\tvalidation-rmse:6.58539                                                                                                  \n",
      "[9]\tvalidation-rmse:6.58154                                                                                                  \n",
      "[10]\tvalidation-rmse:6.57532                                                                                                 \n",
      "[11]\tvalidation-rmse:6.56876                                                                                                 \n",
      "[12]\tvalidation-rmse:6.56865                                                                                                 \n",
      "[13]\tvalidation-rmse:6.56496                                                                                                 \n",
      "[14]\tvalidation-rmse:6.56363                                                                                                 \n",
      "[15]\tvalidation-rmse:6.56209                                                                                                 \n",
      "[16]\tvalidation-rmse:6.55881                                                                                                 \n",
      "[17]\tvalidation-rmse:6.55444                                                                                                 \n",
      "[18]\tvalidation-rmse:6.55088                                                                                                 \n",
      "[19]\tvalidation-rmse:6.54762                                                                                                 \n",
      "[0]\tvalidation-rmse:11.81871                                                                                                 \n",
      "[1]\tvalidation-rmse:11.45011                                                                                                 \n",
      "[2]\tvalidation-rmse:11.10707                                                                                                 \n",
      " 16%|████████▉                                               | 8/50 [03:15<25:08, 35.93s/trial, best loss: 6.454398250421075]"
     ]
    },
    {
     "name": "stderr",
     "output_type": "stream",
     "text": [
      "/home/codespace/anaconda3/lib/python3.9/site-packages/xgboost/core.py:158: UserWarning: [21:22:49] WARNING: /workspace/src/objective/regression_obj.cu:227: reg:linear is now deprecated in favor of reg:squarederror.\n",
      "  warnings.warn(smsg, UserWarning)\n",
      "\n"
     ]
    },
    {
     "name": "stdout",
     "output_type": "stream",
     "text": [
      "[3]\tvalidation-rmse:10.78616                                                                                                 \n",
      "[4]\tvalidation-rmse:10.48740                                                                                                 \n",
      "[5]\tvalidation-rmse:10.20891                                                                                                 \n",
      "[6]\tvalidation-rmse:9.95043                                                                                                  \n",
      "[7]\tvalidation-rmse:9.71045                                                                                                  \n",
      "[8]\tvalidation-rmse:9.48817                                                                                                  \n",
      "[9]\tvalidation-rmse:9.28143                                                                                                  \n",
      "[10]\tvalidation-rmse:9.09095                                                                                                 \n",
      "[11]\tvalidation-rmse:8.91450                                                                                                 \n",
      "[12]\tvalidation-rmse:8.75092                                                                                                 \n",
      "[13]\tvalidation-rmse:8.59913                                                                                                 \n",
      "[14]\tvalidation-rmse:8.46023                                                                                                 \n",
      "[15]\tvalidation-rmse:8.33198                                                                                                 \n",
      "[16]\tvalidation-rmse:8.21386                                                                                                 \n",
      "[17]\tvalidation-rmse:8.10445                                                                                                 \n",
      "[18]\tvalidation-rmse:8.00434                                                                                                 \n",
      "[19]\tvalidation-rmse:7.91093                                                                                                 \n",
      " 18%|██████████                                              | 9/50 [03:16<17:08, 25.09s/trial, best loss: 6.454398250421075]"
     ]
    },
    {
     "name": "stderr",
     "output_type": "stream",
     "text": [
      "/home/codespace/anaconda3/lib/python3.9/site-packages/xgboost/core.py:158: UserWarning: [21:22:51] WARNING: /workspace/src/objective/regression_obj.cu:227: reg:linear is now deprecated in favor of reg:squarederror.\n",
      "  warnings.warn(smsg, UserWarning)\n",
      "\n"
     ]
    },
    {
     "name": "stdout",
     "output_type": "stream",
     "text": [
      "[0]\tvalidation-rmse:11.38347                                                                                                 \n",
      "[1]\tvalidation-rmse:10.66748                                                                                                 \n",
      "[2]\tvalidation-rmse:10.05275                                                                                                 \n",
      "[3]\tvalidation-rmse:9.52720                                                                                                  \n",
      "[4]\tvalidation-rmse:9.07972                                                                                                  \n",
      "[5]\tvalidation-rmse:8.70043                                                                                                  \n",
      "[6]\tvalidation-rmse:8.38020                                                                                                  \n",
      "[7]\tvalidation-rmse:8.11102                                                                                                  \n",
      "[8]\tvalidation-rmse:7.88540                                                                                                  \n",
      "[9]\tvalidation-rmse:7.69581                                                                                                  \n",
      "[10]\tvalidation-rmse:7.53736                                                                                                 \n",
      "[11]\tvalidation-rmse:7.40472                                                                                                 \n",
      "[12]\tvalidation-rmse:7.29421                                                                                                 \n",
      "[13]\tvalidation-rmse:7.20193                                                                                                 \n",
      "[14]\tvalidation-rmse:7.12493                                                                                                 \n",
      "[15]\tvalidation-rmse:7.06128                                                                                                 \n",
      "[16]\tvalidation-rmse:7.00801                                                                                                 \n",
      "[17]\tvalidation-rmse:6.96093                                                                                                 \n",
      "[18]\tvalidation-rmse:6.92217                                                                                                 \n",
      "[19]\tvalidation-rmse:6.88908                                                                                                 \n",
      " 20%|███████████                                            | 10/50 [03:26<13:43, 20.60s/trial, best loss: 6.454398250421075]"
     ]
    },
    {
     "name": "stderr",
     "output_type": "stream",
     "text": [
      "/home/codespace/anaconda3/lib/python3.9/site-packages/xgboost/core.py:158: UserWarning: [21:23:01] WARNING: /workspace/src/objective/regression_obj.cu:227: reg:linear is now deprecated in favor of reg:squarederror.\n",
      "  warnings.warn(smsg, UserWarning)\n",
      "\n"
     ]
    },
    {
     "name": "stdout",
     "output_type": "stream",
     "text": [
      "[0]\tvalidation-rmse:10.29027                                                                                                 \n",
      "[1]\tvalidation-rmse:8.99901                                                                                                  \n",
      "[2]\tvalidation-rmse:8.14410                                                                                                  \n",
      "[3]\tvalidation-rmse:7.58377                                                                                                  \n",
      "[4]\tvalidation-rmse:7.23060                                                                                                  \n",
      "[5]\tvalidation-rmse:7.00463                                                                                                  \n",
      "[6]\tvalidation-rmse:6.86042                                                                                                  \n",
      "[7]\tvalidation-rmse:6.76593                                                                                                  \n",
      "[8]\tvalidation-rmse:6.70159                                                                                                  \n",
      "[9]\tvalidation-rmse:6.64975                                                                                                  \n",
      "[10]\tvalidation-rmse:6.61857                                                                                                 \n",
      "[11]\tvalidation-rmse:6.59147                                                                                                 \n",
      "[12]\tvalidation-rmse:6.57370                                                                                                 \n",
      "[13]\tvalidation-rmse:6.55903                                                                                                 \n",
      "[14]\tvalidation-rmse:6.54789                                                                                                 \n",
      "[15]\tvalidation-rmse:6.53925                                                                                                 \n",
      "[16]\tvalidation-rmse:6.53184                                                                                                 \n",
      "[17]\tvalidation-rmse:6.52599                                                                                                 \n",
      "[18]\tvalidation-rmse:6.52016                                                                                                 \n",
      "[19]\tvalidation-rmse:6.51622                                                                                                 \n",
      " 22%|████████████                                           | 11/50 [04:03<16:39, 25.63s/trial, best loss: 6.454398250421075]"
     ]
    },
    {
     "name": "stderr",
     "output_type": "stream",
     "text": [
      "/home/codespace/anaconda3/lib/python3.9/site-packages/xgboost/core.py:158: UserWarning: [21:23:38] WARNING: /workspace/src/objective/regression_obj.cu:227: reg:linear is now deprecated in favor of reg:squarederror.\n",
      "  warnings.warn(smsg, UserWarning)\n",
      "\n"
     ]
    },
    {
     "name": "stdout",
     "output_type": "stream",
     "text": [
      "[0]\tvalidation-rmse:11.53625                                                                                                 \n",
      "[1]\tvalidation-rmse:10.93233                                                                                                 \n",
      "[2]\tvalidation-rmse:10.39468                                                                                                 \n",
      "[3]\tvalidation-rmse:9.91810                                                                                                  \n",
      "[4]\tvalidation-rmse:9.49607                                                                                                  \n",
      "[5]\tvalidation-rmse:9.12347                                                                                                  \n",
      "[6]\tvalidation-rmse:8.79430                                                                                                  \n",
      "[7]\tvalidation-rmse:8.50802                                                                                                  \n",
      "[8]\tvalidation-rmse:8.25456                                                                                                  \n",
      "[9]\tvalidation-rmse:8.03279                                                                                                  \n",
      "[10]\tvalidation-rmse:7.83984                                                                                                 \n",
      "[11]\tvalidation-rmse:7.67226                                                                                                 \n",
      "[12]\tvalidation-rmse:7.52657                                                                                                 \n",
      "[13]\tvalidation-rmse:7.39857                                                                                                 \n",
      "[14]\tvalidation-rmse:7.28812                                                                                                 \n",
      "[15]\tvalidation-rmse:7.19105                                                                                                 \n",
      "[16]\tvalidation-rmse:7.10783                                                                                                 \n",
      "[17]\tvalidation-rmse:7.03366                                                                                                 \n",
      "[18]\tvalidation-rmse:6.96992                                                                                                 \n",
      "[19]\tvalidation-rmse:6.91433                                                                                                 \n",
      " 24%|█████████████▏                                         | 12/50 [04:30<16:31, 26.09s/trial, best loss: 6.454398250421075]"
     ]
    },
    {
     "name": "stderr",
     "output_type": "stream",
     "text": [
      "/home/codespace/anaconda3/lib/python3.9/site-packages/xgboost/core.py:158: UserWarning: [21:24:05] WARNING: /workspace/src/objective/regression_obj.cu:227: reg:linear is now deprecated in favor of reg:squarederror.\n",
      "  warnings.warn(smsg, UserWarning)\n",
      "\n"
     ]
    },
    {
     "name": "stdout",
     "output_type": "stream",
     "text": [
      "[0]\tvalidation-rmse:8.86529                                                                                                  \n",
      "[1]\tvalidation-rmse:7.45500                                                                                                  \n",
      "[2]\tvalidation-rmse:6.90142                                                                                                  \n",
      "[3]\tvalidation-rmse:6.68131                                                                                                  \n",
      "[4]\tvalidation-rmse:6.58169                                                                                                  \n",
      "[5]\tvalidation-rmse:6.53372                                                                                                  \n",
      "[6]\tvalidation-rmse:6.50581                                                                                                  \n",
      "[7]\tvalidation-rmse:6.49029                                                                                                  \n",
      "[8]\tvalidation-rmse:6.47776                                                                                                  \n",
      "[9]\tvalidation-rmse:6.47166                                                                                                  \n",
      "[10]\tvalidation-rmse:6.46527                                                                                                 \n",
      "[11]\tvalidation-rmse:6.45893                                                                                                 \n",
      "[12]\tvalidation-rmse:6.45350                                                                                                 \n",
      "[13]\tvalidation-rmse:6.44966                                                                                                 \n",
      "[14]\tvalidation-rmse:6.44683                                                                                                 \n",
      "[15]\tvalidation-rmse:6.44387                                                                                                 \n",
      "[16]\tvalidation-rmse:6.43864                                                                                                 \n",
      "[17]\tvalidation-rmse:6.43587                                                                                                 \n",
      "[18]\tvalidation-rmse:6.43297                                                                                                 \n",
      "[19]\tvalidation-rmse:6.43020                                                                                                 \n",
      " 26%|██████████████                                        | 13/50 [04:41<13:16, 21.54s/trial, best loss: 6.4301950881189605]"
     ]
    },
    {
     "name": "stderr",
     "output_type": "stream",
     "text": [
      "/home/codespace/anaconda3/lib/python3.9/site-packages/xgboost/core.py:158: UserWarning: [21:24:16] WARNING: /workspace/src/objective/regression_obj.cu:227: reg:linear is now deprecated in favor of reg:squarederror.\n",
      "  warnings.warn(smsg, UserWarning)\n",
      "\n"
     ]
    },
    {
     "name": "stdout",
     "output_type": "stream",
     "text": [
      "[0]\tvalidation-rmse:10.98810                                                                                                 \n",
      "[1]\tvalidation-rmse:10.00581                                                                                                 \n",
      "[2]\tvalidation-rmse:9.22404                                                                                                  \n",
      "[3]\tvalidation-rmse:8.60963                                                                                                  \n",
      "[4]\tvalidation-rmse:8.13035                                                                                                  \n",
      "[5]\tvalidation-rmse:7.75871                                                                                                  \n",
      "[6]\tvalidation-rmse:7.47384                                                                                                  \n",
      "[7]\tvalidation-rmse:7.25460                                                                                                  \n",
      "[8]\tvalidation-rmse:7.08768                                                                                                  \n",
      "[9]\tvalidation-rmse:6.95796                                                                                                  \n",
      "[10]\tvalidation-rmse:6.85657                                                                                                 \n",
      "[11]\tvalidation-rmse:6.77924                                                                                                 \n",
      "[12]\tvalidation-rmse:6.71829                                                                                                 \n",
      "[13]\tvalidation-rmse:6.67232                                                                                                 \n",
      "[14]\tvalidation-rmse:6.63520                                                                                                 \n",
      "[15]\tvalidation-rmse:6.60571                                                                                                 \n",
      "[16]\tvalidation-rmse:6.58133                                                                                                 \n",
      "[17]\tvalidation-rmse:6.56017                                                                                                 \n",
      "[18]\tvalidation-rmse:6.54407                                                                                                 \n",
      "[19]\tvalidation-rmse:6.53055                                                                                                 \n",
      " 28%|███████████████                                       | 14/50 [05:12<14:38, 24.39s/trial, best loss: 6.4301950881189605]"
     ]
    },
    {
     "name": "stderr",
     "output_type": "stream",
     "text": [
      "/home/codespace/anaconda3/lib/python3.9/site-packages/xgboost/core.py:158: UserWarning: [21:24:47] WARNING: /workspace/src/objective/regression_obj.cu:227: reg:linear is now deprecated in favor of reg:squarederror.\n",
      "  warnings.warn(smsg, UserWarning)\n",
      "\n"
     ]
    },
    {
     "name": "stdout",
     "output_type": "stream",
     "text": [
      "[0]\tvalidation-rmse:11.38296                                                                                                 \n",
      "[1]\tvalidation-rmse:10.66691                                                                                                 \n",
      "[2]\tvalidation-rmse:10.05229                                                                                                 \n",
      "[3]\tvalidation-rmse:9.52693                                                                                                  \n",
      "[4]\tvalidation-rmse:9.08035                                                                                                  \n",
      "[5]\tvalidation-rmse:8.70195                                                                                                  \n",
      "[6]\tvalidation-rmse:8.38255                                                                                                  \n",
      "[7]\tvalidation-rmse:8.11388                                                                                                  \n",
      "[8]\tvalidation-rmse:7.88873                                                                                                  \n",
      "[9]\tvalidation-rmse:7.69994                                                                                                  \n",
      "[10]\tvalidation-rmse:7.54148                                                                                                 \n",
      "[11]\tvalidation-rmse:7.40982                                                                                                 \n",
      "[12]\tvalidation-rmse:7.29958                                                                                                 \n",
      "[13]\tvalidation-rmse:7.20783                                                                                                 \n",
      "[14]\tvalidation-rmse:7.13144                                                                                                 \n",
      "[15]\tvalidation-rmse:7.06778                                                                                                 \n",
      "[16]\tvalidation-rmse:7.01480                                                                                                 \n",
      "[17]\tvalidation-rmse:6.97015                                                                                                 \n",
      "[18]\tvalidation-rmse:6.93095                                                                                                 \n",
      "[19]\tvalidation-rmse:6.89838                                                                                                 \n",
      " 30%|████████████████▏                                     | 15/50 [05:22<11:41, 20.05s/trial, best loss: 6.4301950881189605]"
     ]
    },
    {
     "name": "stderr",
     "output_type": "stream",
     "text": [
      "/home/codespace/anaconda3/lib/python3.9/site-packages/xgboost/core.py:158: UserWarning: [21:24:57] WARNING: /workspace/src/objective/regression_obj.cu:227: reg:linear is now deprecated in favor of reg:squarederror.\n",
      "  warnings.warn(smsg, UserWarning)\n",
      "\n"
     ]
    },
    {
     "name": "stdout",
     "output_type": "stream",
     "text": [
      "[0]\tvalidation-rmse:10.06555                                                                                                 \n",
      "[1]\tvalidation-rmse:8.71787                                                                                                  \n",
      "[2]\tvalidation-rmse:7.90454                                                                                                  \n",
      "[3]\tvalidation-rmse:7.42571                                                                                                  \n",
      "[4]\tvalidation-rmse:7.14710                                                                                                  \n",
      "[5]\tvalidation-rmse:6.98319                                                                                                  \n",
      "[6]\tvalidation-rmse:6.88466                                                                                                  \n",
      "[7]\tvalidation-rmse:6.82450                                                                                                  \n",
      "[8]\tvalidation-rmse:6.78663                                                                                                  \n",
      "[9]\tvalidation-rmse:6.76173                                                                                                  \n",
      "[10]\tvalidation-rmse:6.74413                                                                                                 \n",
      "[11]\tvalidation-rmse:6.73226                                                                                                 \n",
      "[12]\tvalidation-rmse:6.72293                                                                                                 \n",
      "[13]\tvalidation-rmse:6.71644                                                                                                 \n",
      "[14]\tvalidation-rmse:6.71289                                                                                                 \n",
      "[15]\tvalidation-rmse:6.70911                                                                                                 \n",
      "[16]\tvalidation-rmse:6.70673                                                                                                 \n",
      "[17]\tvalidation-rmse:6.70481                                                                                                 \n",
      "[18]\tvalidation-rmse:6.70185                                                                                                 \n",
      "[19]\tvalidation-rmse:6.69998                                                                                                 \n",
      " 32%|█████████████████▎                                    | 16/50 [05:25<08:24, 14.85s/trial, best loss: 6.4301950881189605]"
     ]
    },
    {
     "name": "stderr",
     "output_type": "stream",
     "text": [
      "/home/codespace/anaconda3/lib/python3.9/site-packages/xgboost/core.py:158: UserWarning: [21:25:00] WARNING: /workspace/src/objective/regression_obj.cu:227: reg:linear is now deprecated in favor of reg:squarederror.\n",
      "  warnings.warn(smsg, UserWarning)\n",
      "\n"
     ]
    },
    {
     "name": "stdout",
     "output_type": "stream",
     "text": [
      "[0]\tvalidation-rmse:11.72215                                                                                                 \n",
      "[1]\tvalidation-rmse:11.26955                                                                                                 \n",
      "[2]\tvalidation-rmse:10.85296                                                                                                 \n",
      "[3]\tvalidation-rmse:10.46983                                                                                                 \n",
      "[4]\tvalidation-rmse:10.11798                                                                                                 \n",
      "[5]\tvalidation-rmse:9.79554                                                                                                  \n",
      "[6]\tvalidation-rmse:9.50035                                                                                                  \n",
      "[7]\tvalidation-rmse:9.23037                                                                                                  \n",
      "[8]\tvalidation-rmse:8.98382                                                                                                  \n",
      "[9]\tvalidation-rmse:8.75958                                                                                                  \n",
      "[10]\tvalidation-rmse:8.55497                                                                                                 \n",
      "[11]\tvalidation-rmse:8.36880                                                                                                 \n",
      "[12]\tvalidation-rmse:8.20024                                                                                                 \n",
      "[13]\tvalidation-rmse:8.04730                                                                                                 \n",
      "[14]\tvalidation-rmse:7.90779                                                                                                 \n",
      "[15]\tvalidation-rmse:7.78192                                                                                                 \n",
      "[16]\tvalidation-rmse:7.66712                                                                                                 \n",
      "[17]\tvalidation-rmse:7.56340                                                                                                 \n",
      "[18]\tvalidation-rmse:7.47002                                                                                                 \n",
      "[19]\tvalidation-rmse:7.38565                                                                                                 \n",
      " 34%|██████████████████▎                                   | 17/50 [06:00<11:28, 20.86s/trial, best loss: 6.4301950881189605]"
     ]
    },
    {
     "name": "stderr",
     "output_type": "stream",
     "text": [
      "/home/codespace/anaconda3/lib/python3.9/site-packages/xgboost/core.py:158: UserWarning: [21:25:35] WARNING: /workspace/src/objective/regression_obj.cu:227: reg:linear is now deprecated in favor of reg:squarederror.\n",
      "  warnings.warn(smsg, UserWarning)\n",
      "\n"
     ]
    },
    {
     "name": "stdout",
     "output_type": "stream",
     "text": [
      "[0]\tvalidation-rmse:11.67006                                                                                                 \n",
      "[1]\tvalidation-rmse:11.17534                                                                                                 \n",
      "[2]\tvalidation-rmse:10.72556                                                                                                 \n",
      "[3]\tvalidation-rmse:10.31793                                                                                                 \n",
      "[4]\tvalidation-rmse:9.94732                                                                                                  \n",
      "[5]\tvalidation-rmse:9.61285                                                                                                  \n",
      "[6]\tvalidation-rmse:9.31093                                                                                                  \n",
      "[7]\tvalidation-rmse:9.03955                                                                                                  \n",
      "[8]\tvalidation-rmse:8.79538                                                                                                  \n",
      "[9]\tvalidation-rmse:8.57614                                                                                                  \n",
      "[10]\tvalidation-rmse:8.37922                                                                                                 \n",
      "[11]\tvalidation-rmse:8.20263                                                                                                 \n",
      "[12]\tvalidation-rmse:8.04448                                                                                                 \n",
      "[13]\tvalidation-rmse:7.90327                                                                                                 \n",
      "[14]\tvalidation-rmse:7.77730                                                                                                 \n",
      "[15]\tvalidation-rmse:7.66470                                                                                                 \n",
      "[16]\tvalidation-rmse:7.56307                                                                                                 \n",
      "[17]\tvalidation-rmse:7.47441                                                                                                 \n",
      "[18]\tvalidation-rmse:7.39458                                                                                                 \n",
      "[19]\tvalidation-rmse:7.32337                                                                                                 \n",
      "[0]\tvalidation-rmse:9.44951                                                                                                  \n",
      "[1]\tvalidation-rmse:8.04828                                                                                                  \n",
      " 36%|███████████████████▍                                  | 18/50 [06:04<08:19, 15.61s/trial, best loss: 6.4301950881189605]"
     ]
    },
    {
     "name": "stderr",
     "output_type": "stream",
     "text": [
      "/home/codespace/anaconda3/lib/python3.9/site-packages/xgboost/core.py:158: UserWarning: [21:25:38] WARNING: /workspace/src/objective/regression_obj.cu:227: reg:linear is now deprecated in favor of reg:squarederror.\n",
      "  warnings.warn(smsg, UserWarning)\n",
      "\n"
     ]
    },
    {
     "name": "stdout",
     "output_type": "stream",
     "text": [
      "[2]\tvalidation-rmse:7.37870                                                                                                  \n",
      "[3]\tvalidation-rmse:7.06890                                                                                                  \n",
      "[4]\tvalidation-rmse:6.92054                                                                                                  \n",
      "[5]\tvalidation-rmse:6.84917                                                                                                  \n",
      "[6]\tvalidation-rmse:6.81270                                                                                                  \n",
      "[7]\tvalidation-rmse:6.78948                                                                                                  \n",
      "[8]\tvalidation-rmse:6.77635                                                                                                  \n",
      "[9]\tvalidation-rmse:6.76812                                                                                                  \n",
      "[10]\tvalidation-rmse:6.76324                                                                                                 \n",
      "[11]\tvalidation-rmse:6.75917                                                                                                 \n",
      "[12]\tvalidation-rmse:6.75642                                                                                                 \n",
      "[13]\tvalidation-rmse:6.75340                                                                                                 \n",
      "[14]\tvalidation-rmse:6.74594                                                                                                 \n",
      "[15]\tvalidation-rmse:6.74374                                                                                                 \n",
      "[16]\tvalidation-rmse:6.74125                                                                                                 \n",
      "[17]\tvalidation-rmse:6.73726                                                                                                 \n",
      "[18]\tvalidation-rmse:6.73391                                                                                                 \n",
      "[19]\tvalidation-rmse:6.73139                                                                                                 \n",
      " 38%|████████████████████▌                                 | 19/50 [06:05<05:55, 11.46s/trial, best loss: 6.4301950881189605]"
     ]
    },
    {
     "name": "stderr",
     "output_type": "stream",
     "text": [
      "/home/codespace/anaconda3/lib/python3.9/site-packages/xgboost/core.py:158: UserWarning: [21:25:40] WARNING: /workspace/src/objective/regression_obj.cu:227: reg:linear is now deprecated in favor of reg:squarederror.\n",
      "  warnings.warn(smsg, UserWarning)\n",
      "\n"
     ]
    },
    {
     "name": "stdout",
     "output_type": "stream",
     "text": [
      "[0]\tvalidation-rmse:10.92508                                                                                                 \n",
      "[1]\tvalidation-rmse:9.90371                                                                                                  \n",
      "[2]\tvalidation-rmse:9.10490                                                                                                  \n",
      "[3]\tvalidation-rmse:8.48371                                                                                                  \n",
      "[4]\tvalidation-rmse:8.00567                                                                                                  \n",
      "[5]\tvalidation-rmse:7.64441                                                                                                  \n",
      "[6]\tvalidation-rmse:7.36724                                                                                                  \n",
      "[7]\tvalidation-rmse:7.15759                                                                                                  \n",
      "[8]\tvalidation-rmse:7.00001                                                                                                  \n",
      "[9]\tvalidation-rmse:6.88102                                                                                                  \n",
      "[10]\tvalidation-rmse:6.78982                                                                                                 \n",
      "[11]\tvalidation-rmse:6.71853                                                                                                 \n",
      "[12]\tvalidation-rmse:6.66356                                                                                                 \n",
      "[13]\tvalidation-rmse:6.62292                                                                                                 \n",
      "[14]\tvalidation-rmse:6.58947                                                                                                 \n",
      "[15]\tvalidation-rmse:6.56450                                                                                                 \n",
      "[16]\tvalidation-rmse:6.54058                                                                                                 \n",
      "[17]\tvalidation-rmse:6.52149                                                                                                 \n",
      "[18]\tvalidation-rmse:6.50620                                                                                                 \n",
      "[19]\tvalidation-rmse:6.49345                                                                                                 \n",
      " 40%|█████████████████████▌                                | 20/50 [06:48<10:22, 20.74s/trial, best loss: 6.4301950881189605]"
     ]
    },
    {
     "name": "stderr",
     "output_type": "stream",
     "text": [
      "/home/codespace/anaconda3/lib/python3.9/site-packages/xgboost/core.py:158: UserWarning: [21:26:23] WARNING: /workspace/src/objective/regression_obj.cu:227: reg:linear is now deprecated in favor of reg:squarederror.\n",
      "  warnings.warn(smsg, UserWarning)\n",
      "\n"
     ]
    },
    {
     "name": "stdout",
     "output_type": "stream",
     "text": [
      "[0]\tvalidation-rmse:6.86779                                                                                                  \n",
      "[1]\tvalidation-rmse:6.66717                                                                                                  \n",
      "[2]\tvalidation-rmse:6.65196                                                                                                  \n",
      "[3]\tvalidation-rmse:6.63915                                                                                                  \n",
      "[4]\tvalidation-rmse:6.62914                                                                                                  \n",
      "[5]\tvalidation-rmse:6.62240                                                                                                  \n",
      "[6]\tvalidation-rmse:6.61691                                                                                                  \n",
      "[7]\tvalidation-rmse:6.60992                                                                                                  \n",
      "[8]\tvalidation-rmse:6.60663                                                                                                  \n",
      "[9]\tvalidation-rmse:6.60024                                                                                                  \n",
      "[10]\tvalidation-rmse:6.58952                                                                                                 \n",
      "[11]\tvalidation-rmse:6.58563                                                                                                 \n",
      "[12]\tvalidation-rmse:6.58797                                                                                                 \n",
      "[13]\tvalidation-rmse:6.58191                                                                                                 \n",
      "[14]\tvalidation-rmse:6.57882                                                                                                 \n",
      "[15]\tvalidation-rmse:6.57639                                                                                                 \n",
      "[16]\tvalidation-rmse:6.56842                                                                                                 \n",
      "[17]\tvalidation-rmse:6.56584                                                                                                 \n",
      "[18]\tvalidation-rmse:6.56328                                                                                                 \n",
      "[19]\tvalidation-rmse:6.56219                                                                                                 \n",
      " 42%|██████████████████████▋                               | 21/50 [06:53<07:47, 16.12s/trial, best loss: 6.4301950881189605]"
     ]
    },
    {
     "name": "stderr",
     "output_type": "stream",
     "text": [
      "/home/codespace/anaconda3/lib/python3.9/site-packages/xgboost/core.py:158: UserWarning: [21:26:28] WARNING: /workspace/src/objective/regression_obj.cu:227: reg:linear is now deprecated in favor of reg:squarederror.\n",
      "  warnings.warn(smsg, UserWarning)\n",
      "\n"
     ]
    },
    {
     "name": "stdout",
     "output_type": "stream",
     "text": [
      "[0]\tvalidation-rmse:8.95621                                                                                                  \n",
      "[1]\tvalidation-rmse:7.54421                                                                                                  \n",
      "[2]\tvalidation-rmse:6.97523                                                                                                  \n",
      "[3]\tvalidation-rmse:6.74313                                                                                                  \n",
      "[4]\tvalidation-rmse:6.63967                                                                                                  \n",
      "[5]\tvalidation-rmse:6.58913                                                                                                  \n",
      "[6]\tvalidation-rmse:6.56162                                                                                                  \n",
      "[7]\tvalidation-rmse:6.54602                                                                                                  \n",
      "[8]\tvalidation-rmse:6.53373                                                                                                  \n",
      "[9]\tvalidation-rmse:6.52460                                                                                                  \n",
      "[10]\tvalidation-rmse:6.52090                                                                                                 \n",
      "[11]\tvalidation-rmse:6.51449                                                                                                 \n",
      "[12]\tvalidation-rmse:6.51125                                                                                                 \n",
      "[13]\tvalidation-rmse:6.50791                                                                                                 \n",
      "[14]\tvalidation-rmse:6.50340                                                                                                 \n",
      "[15]\tvalidation-rmse:6.49960                                                                                                 \n",
      "[16]\tvalidation-rmse:6.49665                                                                                                 \n",
      "[17]\tvalidation-rmse:6.48889                                                                                                 \n",
      "[18]\tvalidation-rmse:6.48542                                                                                                 \n",
      "[19]\tvalidation-rmse:6.48206                                                                                                 \n",
      " 44%|███████████████████████▊                              | 22/50 [06:59<06:10, 13.23s/trial, best loss: 6.4301950881189605]"
     ]
    },
    {
     "name": "stderr",
     "output_type": "stream",
     "text": [
      "/home/codespace/anaconda3/lib/python3.9/site-packages/xgboost/core.py:158: UserWarning: [21:26:34] WARNING: /workspace/src/objective/regression_obj.cu:227: reg:linear is now deprecated in favor of reg:squarederror.\n",
      "  warnings.warn(smsg, UserWarning)\n",
      "\n"
     ]
    },
    {
     "name": "stdout",
     "output_type": "stream",
     "text": [
      "[0]\tvalidation-rmse:7.77813                                                                                                  \n",
      "[1]\tvalidation-rmse:6.77811                                                                                                  \n",
      "[2]\tvalidation-rmse:6.56740                                                                                                  \n",
      "[3]\tvalidation-rmse:6.50196                                                                                                  \n",
      "[4]\tvalidation-rmse:6.47676                                                                                                  \n",
      "[5]\tvalidation-rmse:6.46739                                                                                                  \n",
      "[6]\tvalidation-rmse:6.46150                                                                                                  \n",
      "[7]\tvalidation-rmse:6.45384                                                                                                  \n",
      "[8]\tvalidation-rmse:6.44816                                                                                                  \n",
      "[9]\tvalidation-rmse:6.43926                                                                                                  \n",
      "[10]\tvalidation-rmse:6.43378                                                                                                 \n",
      "[11]\tvalidation-rmse:6.42989                                                                                                 \n",
      "[12]\tvalidation-rmse:6.42554                                                                                                 \n",
      "[13]\tvalidation-rmse:6.42298                                                                                                 \n",
      "[14]\tvalidation-rmse:6.42050                                                                                                 \n",
      "[15]\tvalidation-rmse:6.41340                                                                                                 \n",
      "[16]\tvalidation-rmse:6.41114                                                                                                 \n",
      "[17]\tvalidation-rmse:6.40322                                                                                                 \n",
      "[18]\tvalidation-rmse:6.40014                                                                                                 \n",
      "[19]\tvalidation-rmse:6.39738                                                                                                 \n",
      " 46%|████████████████████████▊                             | 23/50 [07:15<06:15, 13.89s/trial, best loss: 6.3973782991827335]"
     ]
    },
    {
     "name": "stderr",
     "output_type": "stream",
     "text": [
      "/home/codespace/anaconda3/lib/python3.9/site-packages/xgboost/core.py:158: UserWarning: [21:26:50] WARNING: /workspace/src/objective/regression_obj.cu:227: reg:linear is now deprecated in favor of reg:squarederror.\n",
      "  warnings.warn(smsg, UserWarning)\n",
      "\n"
     ]
    },
    {
     "name": "stdout",
     "output_type": "stream",
     "text": [
      "[0]\tvalidation-rmse:7.65151                                                                                                  \n",
      "[1]\tvalidation-rmse:6.74802                                                                                                  \n",
      "[2]\tvalidation-rmse:6.55296                                                                                                  \n",
      "[3]\tvalidation-rmse:6.50004                                                                                                  \n",
      "[4]\tvalidation-rmse:6.46331                                                                                                  \n",
      "[5]\tvalidation-rmse:6.45140                                                                                                  \n",
      "[6]\tvalidation-rmse:6.44374                                                                                                  \n",
      "[7]\tvalidation-rmse:6.43689                                                                                                  \n",
      "[8]\tvalidation-rmse:6.42839                                                                                                  \n",
      "[9]\tvalidation-rmse:6.42543                                                                                                  \n",
      "[10]\tvalidation-rmse:6.42181                                                                                                 \n",
      "[11]\tvalidation-rmse:6.41516                                                                                                 \n",
      "[12]\tvalidation-rmse:6.40899                                                                                                 \n",
      "[13]\tvalidation-rmse:6.40459                                                                                                 \n",
      "[14]\tvalidation-rmse:6.40031                                                                                                 \n",
      "[15]\tvalidation-rmse:6.39852                                                                                                 \n",
      "[16]\tvalidation-rmse:6.39752                                                                                                 \n",
      "[17]\tvalidation-rmse:6.39429                                                                                                 \n",
      "[18]\tvalidation-rmse:6.39213                                                                                                 \n",
      "[19]\tvalidation-rmse:6.39143                                                                                                 \n",
      " 48%|██████████████████████████▍                            | 24/50 [07:28<05:54, 13.63s/trial, best loss: 6.391428371257597]"
     ]
    },
    {
     "name": "stderr",
     "output_type": "stream",
     "text": [
      "/home/codespace/anaconda3/lib/python3.9/site-packages/xgboost/core.py:158: UserWarning: [21:27:03] WARNING: /workspace/src/objective/regression_obj.cu:227: reg:linear is now deprecated in favor of reg:squarederror.\n",
      "  warnings.warn(smsg, UserWarning)\n",
      "\n"
     ]
    },
    {
     "name": "stdout",
     "output_type": "stream",
     "text": [
      "[0]\tvalidation-rmse:6.98039                                                                                                  \n",
      "[1]\tvalidation-rmse:6.67038                                                                                                  \n",
      "[2]\tvalidation-rmse:6.61893                                                                                                  \n",
      "[3]\tvalidation-rmse:6.59949                                                                                                  \n",
      "[4]\tvalidation-rmse:6.57939                                                                                                  \n",
      "[5]\tvalidation-rmse:6.57219                                                                                                  \n",
      "[6]\tvalidation-rmse:6.56362                                                                                                  \n",
      "[7]\tvalidation-rmse:6.56039                                                                                                  \n",
      "[8]\tvalidation-rmse:6.55577                                                                                                  \n",
      "[9]\tvalidation-rmse:6.55418                                                                                                  \n",
      "[10]\tvalidation-rmse:6.55376                                                                                                 \n",
      "[11]\tvalidation-rmse:6.55004                                                                                                 \n",
      "[12]\tvalidation-rmse:6.54859                                                                                                 \n",
      "[13]\tvalidation-rmse:6.54747                                                                                                 \n",
      "[14]\tvalidation-rmse:6.54732                                                                                                 \n",
      "[15]\tvalidation-rmse:6.54568                                                                                                 \n",
      "[16]\tvalidation-rmse:6.54697                                                                                                 \n",
      "[17]\tvalidation-rmse:6.54586                                                                                                 \n",
      "[18]\tvalidation-rmse:6.54447                                                                                                 \n",
      "[19]\tvalidation-rmse:6.54399                                                                                                 \n",
      " 50%|███████████████████████████▌                           | 25/50 [07:36<04:58, 11.93s/trial, best loss: 6.391428371257597]"
     ]
    },
    {
     "name": "stderr",
     "output_type": "stream",
     "text": [
      "/home/codespace/anaconda3/lib/python3.9/site-packages/xgboost/core.py:158: UserWarning: [21:27:11] WARNING: /workspace/src/objective/regression_obj.cu:227: reg:linear is now deprecated in favor of reg:squarederror.\n",
      "  warnings.warn(smsg, UserWarning)\n",
      "\n"
     ]
    },
    {
     "name": "stdout",
     "output_type": "stream",
     "text": [
      "[0]\tvalidation-rmse:7.58534                                                                                                  \n",
      "[1]\tvalidation-rmse:6.73382                                                                                                  \n",
      "[2]\tvalidation-rmse:6.56621                                                                                                  \n",
      "[3]\tvalidation-rmse:6.50655                                                                                                  \n",
      "[4]\tvalidation-rmse:6.47955                                                                                                  \n",
      "[5]\tvalidation-rmse:6.46823                                                                                                  \n",
      "[6]\tvalidation-rmse:6.46150                                                                                                  \n",
      "[7]\tvalidation-rmse:6.45231                                                                                                  \n",
      "[8]\tvalidation-rmse:6.44511                                                                                                  \n",
      "[9]\tvalidation-rmse:6.44091                                                                                                  \n",
      "[10]\tvalidation-rmse:6.43191                                                                                                 \n",
      "[11]\tvalidation-rmse:6.42896                                                                                                 \n",
      "[12]\tvalidation-rmse:6.42623                                                                                                 \n",
      "[13]\tvalidation-rmse:6.42364                                                                                                 \n",
      "[14]\tvalidation-rmse:6.42001                                                                                                 \n",
      "[15]\tvalidation-rmse:6.41648                                                                                                 \n",
      "[16]\tvalidation-rmse:6.41349                                                                                                 \n",
      "[17]\tvalidation-rmse:6.41043                                                                                                 \n",
      "[18]\tvalidation-rmse:6.40994                                                                                                 \n",
      "[19]\tvalidation-rmse:6.40587                                                                                                 \n",
      " 52%|████████████████████████████▌                          | 26/50 [07:49<04:52, 12.17s/trial, best loss: 6.391428371257597]"
     ]
    },
    {
     "name": "stderr",
     "output_type": "stream",
     "text": [
      "/home/codespace/anaconda3/lib/python3.9/site-packages/xgboost/core.py:158: UserWarning: [21:27:24] WARNING: /workspace/src/objective/regression_obj.cu:227: reg:linear is now deprecated in favor of reg:squarederror.\n",
      "  warnings.warn(smsg, UserWarning)\n",
      "\n"
     ]
    },
    {
     "name": "stdout",
     "output_type": "stream",
     "text": [
      "[0]\tvalidation-rmse:6.79333                                                                                                  \n",
      "[1]\tvalidation-rmse:6.65048                                                                                                  \n",
      "[2]\tvalidation-rmse:6.62388                                                                                                  \n",
      "[3]\tvalidation-rmse:6.60524                                                                                                  \n",
      "[4]\tvalidation-rmse:6.59440                                                                                                  \n",
      "[5]\tvalidation-rmse:6.58817                                                                                                  \n",
      "[6]\tvalidation-rmse:6.58129                                                                                                  \n",
      "[7]\tvalidation-rmse:6.57718                                                                                                  \n",
      "[8]\tvalidation-rmse:6.57300                                                                                                  \n",
      "[9]\tvalidation-rmse:6.56965                                                                                                  \n",
      "[10]\tvalidation-rmse:6.56773                                                                                                 \n",
      "[11]\tvalidation-rmse:6.56531                                                                                                 \n",
      "[12]\tvalidation-rmse:6.56565                                                                                                 \n",
      "[13]\tvalidation-rmse:6.56634                                                                                                 \n",
      "[14]\tvalidation-rmse:6.56214                                                                                                 \n",
      "[15]\tvalidation-rmse:6.56203                                                                                                 \n",
      "[16]\tvalidation-rmse:6.55997                                                                                                 \n",
      "[17]\tvalidation-rmse:6.55892                                                                                                 \n",
      "[18]\tvalidation-rmse:6.55837                                                                                                 \n",
      "[19]\tvalidation-rmse:6.55779                                                                                                 \n",
      " 54%|█████████████████████████████▋                         | 27/50 [07:55<03:59, 10.40s/trial, best loss: 6.391428371257597]"
     ]
    },
    {
     "name": "stderr",
     "output_type": "stream",
     "text": [
      "/home/codespace/anaconda3/lib/python3.9/site-packages/xgboost/core.py:158: UserWarning: [21:27:30] WARNING: /workspace/src/objective/regression_obj.cu:227: reg:linear is now deprecated in favor of reg:squarederror.\n",
      "  warnings.warn(smsg, UserWarning)\n",
      "\n"
     ]
    },
    {
     "name": "stdout",
     "output_type": "stream",
     "text": [
      "[0]\tvalidation-rmse:8.28897                                                                                                  \n",
      "[1]\tvalidation-rmse:7.02891                                                                                                  \n",
      "[2]\tvalidation-rmse:6.65622                                                                                                  \n",
      "[3]\tvalidation-rmse:6.53316                                                                                                  \n",
      "[4]\tvalidation-rmse:6.48042                                                                                                  \n",
      "[5]\tvalidation-rmse:6.45627                                                                                                  \n",
      "[6]\tvalidation-rmse:6.44637                                                                                                  \n",
      "[7]\tvalidation-rmse:6.44105                                                                                                  \n",
      "[8]\tvalidation-rmse:6.43733                                                                                                  \n",
      "[9]\tvalidation-rmse:6.43134                                                                                                  \n",
      "[10]\tvalidation-rmse:6.42553                                                                                                 \n",
      "[11]\tvalidation-rmse:6.42207                                                                                                 \n",
      "[12]\tvalidation-rmse:6.41558                                                                                                 \n",
      "[13]\tvalidation-rmse:6.41276                                                                                                 \n",
      "[14]\tvalidation-rmse:6.41013                                                                                                 \n",
      "[15]\tvalidation-rmse:6.40715                                                                                                 \n",
      "[16]\tvalidation-rmse:6.40377                                                                                                 \n",
      "[17]\tvalidation-rmse:6.39855                                                                                                 \n",
      "[18]\tvalidation-rmse:6.39716                                                                                                 \n",
      "[19]\tvalidation-rmse:6.39616                                                                                                 \n",
      " 56%|██████████████████████████████▊                        | 28/50 [08:16<05:02, 13.74s/trial, best loss: 6.391428371257597]"
     ]
    },
    {
     "name": "stderr",
     "output_type": "stream",
     "text": [
      "/home/codespace/anaconda3/lib/python3.9/site-packages/xgboost/core.py:158: UserWarning: [21:27:51] WARNING: /workspace/src/objective/regression_obj.cu:227: reg:linear is now deprecated in favor of reg:squarederror.\n",
      "  warnings.warn(smsg, UserWarning)\n",
      "\n"
     ]
    },
    {
     "name": "stdout",
     "output_type": "stream",
     "text": [
      "[0]\tvalidation-rmse:9.87914                                                                                                  \n",
      "[1]\tvalidation-rmse:8.45046                                                                                                  \n",
      "[2]\tvalidation-rmse:7.60175                                                                                                  \n",
      "[3]\tvalidation-rmse:7.11688                                                                                                  \n",
      "[4]\tvalidation-rmse:6.84266                                                                                                  \n",
      "[5]\tvalidation-rmse:6.68291                                                                                                  \n",
      "[6]\tvalidation-rmse:6.59221                                                                                                  \n",
      "[7]\tvalidation-rmse:6.53582                                                                                                  \n",
      "[8]\tvalidation-rmse:6.49732                                                                                                  \n",
      "[9]\tvalidation-rmse:6.47265                                                                                                  \n",
      "[10]\tvalidation-rmse:6.45630                                                                                                 \n",
      "[11]\tvalidation-rmse:6.44314                                                                                                 \n",
      "[12]\tvalidation-rmse:6.43223                                                                                                 \n",
      "[13]\tvalidation-rmse:6.42491                                                                                                 \n",
      "[14]\tvalidation-rmse:6.42135                                                                                                 \n",
      "[15]\tvalidation-rmse:6.41719                                                                                                 \n",
      "[16]\tvalidation-rmse:6.41498                                                                                                 \n",
      "[17]\tvalidation-rmse:6.41176                                                                                                 \n",
      "[18]\tvalidation-rmse:6.40869                                                                                                 \n",
      "[19]\tvalidation-rmse:6.40584                                                                                                 \n",
      " 58%|███████████████████████████████▉                       | 29/50 [08:55<07:22, 21.08s/trial, best loss: 6.391428371257597]"
     ]
    },
    {
     "name": "stderr",
     "output_type": "stream",
     "text": [
      "/home/codespace/anaconda3/lib/python3.9/site-packages/xgboost/core.py:158: UserWarning: [21:28:30] WARNING: /workspace/src/objective/regression_obj.cu:227: reg:linear is now deprecated in favor of reg:squarederror.\n",
      "  warnings.warn(smsg, UserWarning)\n",
      "\n"
     ]
    },
    {
     "name": "stdout",
     "output_type": "stream",
     "text": [
      "[0]\tvalidation-rmse:8.36187                                                                                                  \n",
      "[1]\tvalidation-rmse:7.08170                                                                                                  \n",
      "[2]\tvalidation-rmse:6.68478                                                                                                  \n",
      "[3]\tvalidation-rmse:6.55319                                                                                                  \n",
      "[4]\tvalidation-rmse:6.49000                                                                                                  \n",
      "[5]\tvalidation-rmse:6.45903                                                                                                  \n",
      "[6]\tvalidation-rmse:6.44400                                                                                                  \n",
      "[7]\tvalidation-rmse:6.43423                                                                                                  \n",
      "[8]\tvalidation-rmse:6.42601                                                                                                  \n",
      "[9]\tvalidation-rmse:6.42020                                                                                                  \n",
      "[10]\tvalidation-rmse:6.41482                                                                                                 \n",
      "[11]\tvalidation-rmse:6.40878                                                                                                 \n",
      "[12]\tvalidation-rmse:6.40645                                                                                                 \n",
      "[13]\tvalidation-rmse:6.40495                                                                                                 \n",
      "[14]\tvalidation-rmse:6.39778                                                                                                 \n",
      "[15]\tvalidation-rmse:6.39560                                                                                                 \n",
      "[16]\tvalidation-rmse:6.39240                                                                                                 \n",
      "[17]\tvalidation-rmse:6.39061                                                                                                 \n",
      "[18]\tvalidation-rmse:6.38735                                                                                                 \n",
      "[19]\tvalidation-rmse:6.38534                                                                                                 \n",
      " 60%|█████████████████████████████████                      | 30/50 [09:15<06:58, 20.90s/trial, best loss: 6.385342033494768]"
     ]
    },
    {
     "name": "stderr",
     "output_type": "stream",
     "text": [
      "/home/codespace/anaconda3/lib/python3.9/site-packages/xgboost/core.py:158: UserWarning: [21:28:50] WARNING: /workspace/src/objective/regression_obj.cu:227: reg:linear is now deprecated in favor of reg:squarederror.\n",
      "  warnings.warn(smsg, UserWarning)\n",
      "\n"
     ]
    },
    {
     "name": "stdout",
     "output_type": "stream",
     "text": [
      "[0]\tvalidation-rmse:10.69074                                                                                                 \n",
      "[1]\tvalidation-rmse:9.54539                                                                                                  \n",
      "[2]\tvalidation-rmse:8.69756                                                                                                  \n",
      "[3]\tvalidation-rmse:8.07967                                                                                                  \n",
      "[4]\tvalidation-rmse:7.63413                                                                                                  \n",
      "[5]\tvalidation-rmse:7.31557                                                                                                  \n",
      "[6]\tvalidation-rmse:7.08897                                                                                                  \n",
      "[7]\tvalidation-rmse:6.92704                                                                                                  \n",
      "[8]\tvalidation-rmse:6.81058                                                                                                  \n",
      "[9]\tvalidation-rmse:6.72719                                                                                                  \n",
      "[10]\tvalidation-rmse:6.66797                                                                                                 \n",
      "[11]\tvalidation-rmse:6.62044                                                                                                 \n",
      "[12]\tvalidation-rmse:6.58403                                                                                                 \n",
      "[13]\tvalidation-rmse:6.55730                                                                                                 \n",
      "[14]\tvalidation-rmse:6.53605                                                                                                 \n",
      "[15]\tvalidation-rmse:6.51854                                                                                                 \n",
      "[16]\tvalidation-rmse:6.50505                                                                                                 \n",
      "[17]\tvalidation-rmse:6.49473                                                                                                 \n",
      "[18]\tvalidation-rmse:6.48601                                                                                                 \n",
      "[19]\tvalidation-rmse:6.47721                                                                                                 \n",
      " 62%|██████████████████████████████████                     | 31/50 [09:47<07:40, 24.25s/trial, best loss: 6.385342033494768]"
     ]
    },
    {
     "name": "stderr",
     "output_type": "stream",
     "text": [
      "/home/codespace/anaconda3/lib/python3.9/site-packages/xgboost/core.py:158: UserWarning: [21:29:22] WARNING: /workspace/src/objective/regression_obj.cu:227: reg:linear is now deprecated in favor of reg:squarederror.\n",
      "  warnings.warn(smsg, UserWarning)\n",
      "\n"
     ]
    },
    {
     "name": "stdout",
     "output_type": "stream",
     "text": [
      "[0]\tvalidation-rmse:6.63842                                                                                                  \n",
      "[1]\tvalidation-rmse:6.59828                                                                                                  \n",
      "[2]\tvalidation-rmse:6.56515                                                                                                  \n",
      "[3]\tvalidation-rmse:6.54262                                                                                                  \n",
      "[4]\tvalidation-rmse:6.52413                                                                                                  \n",
      "[5]\tvalidation-rmse:6.51489                                                                                                  \n",
      "[6]\tvalidation-rmse:6.49898                                                                                                  \n",
      "[7]\tvalidation-rmse:6.48773                                                                                                  \n",
      "[8]\tvalidation-rmse:6.48330                                                                                                  \n",
      "[9]\tvalidation-rmse:6.47698                                                                                                  \n",
      "[10]\tvalidation-rmse:6.46977                                                                                                 \n",
      "[11]\tvalidation-rmse:6.47136                                                                                                 \n",
      "[12]\tvalidation-rmse:6.47091                                                                                                 \n",
      "[13]\tvalidation-rmse:6.46580                                                                                                 \n",
      "[14]\tvalidation-rmse:6.46497                                                                                                 \n",
      "[15]\tvalidation-rmse:6.46318                                                                                                 \n",
      "[16]\tvalidation-rmse:6.46132                                                                                                 \n",
      "[17]\tvalidation-rmse:6.45704                                                                                                 \n",
      "[18]\tvalidation-rmse:6.45075                                                                                                 \n",
      "[19]\tvalidation-rmse:6.45027                                                                                                 \n",
      " 64%|███████████████████████████████████▏                   | 32/50 [09:55<05:48, 19.38s/trial, best loss: 6.385342033494768]"
     ]
    },
    {
     "name": "stderr",
     "output_type": "stream",
     "text": [
      "/home/codespace/anaconda3/lib/python3.9/site-packages/xgboost/core.py:158: UserWarning: [21:29:30] WARNING: /workspace/src/objective/regression_obj.cu:227: reg:linear is now deprecated in favor of reg:squarederror.\n",
      "  warnings.warn(smsg, UserWarning)\n",
      "\n"
     ]
    },
    {
     "name": "stdout",
     "output_type": "stream",
     "text": [
      "[0]\tvalidation-rmse:7.20164                                                                                                  \n",
      "[1]\tvalidation-rmse:6.69871                                                                                                  \n",
      "[2]\tvalidation-rmse:6.60444                                                                                                  \n",
      "[3]\tvalidation-rmse:6.57027                                                                                                  \n",
      "[4]\tvalidation-rmse:6.55965                                                                                                  \n",
      "[5]\tvalidation-rmse:6.54159                                                                                                  \n",
      "[6]\tvalidation-rmse:6.53821                                                                                                  \n",
      "[7]\tvalidation-rmse:6.52996                                                                                                  \n",
      "[8]\tvalidation-rmse:6.52431                                                                                                  \n",
      "[9]\tvalidation-rmse:6.52040                                                                                                  \n",
      "[10]\tvalidation-rmse:6.51898                                                                                                 \n",
      "[11]\tvalidation-rmse:6.51554                                                                                                 \n",
      "[12]\tvalidation-rmse:6.51438                                                                                                 \n",
      "[13]\tvalidation-rmse:6.51084                                                                                                 \n",
      "[14]\tvalidation-rmse:6.50937                                                                                                 \n",
      "[15]\tvalidation-rmse:6.50800                                                                                                 \n",
      "[16]\tvalidation-rmse:6.50687                                                                                                 \n",
      "[17]\tvalidation-rmse:6.50572                                                                                                 \n",
      "[18]\tvalidation-rmse:6.50394                                                                                                 \n",
      "[19]\tvalidation-rmse:6.50318                                                                                                 \n",
      " 66%|████████████████████████████████████▎                  | 33/50 [10:03<04:32, 16.04s/trial, best loss: 6.385342033494768]"
     ]
    },
    {
     "name": "stderr",
     "output_type": "stream",
     "text": [
      "/home/codespace/anaconda3/lib/python3.9/site-packages/xgboost/core.py:158: UserWarning: [21:29:38] WARNING: /workspace/src/objective/regression_obj.cu:227: reg:linear is now deprecated in favor of reg:squarederror.\n",
      "  warnings.warn(smsg, UserWarning)\n",
      "\n"
     ]
    },
    {
     "name": "stdout",
     "output_type": "stream",
     "text": [
      "[0]\tvalidation-rmse:8.73291                                                                                                  \n",
      "[1]\tvalidation-rmse:7.35037                                                                                                  \n",
      "[2]\tvalidation-rmse:6.83707                                                                                                  \n",
      "[3]\tvalidation-rmse:6.64201                                                                                                  \n",
      "[4]\tvalidation-rmse:6.55645                                                                                                  \n",
      "[5]\tvalidation-rmse:6.51661                                                                                                  \n",
      "[6]\tvalidation-rmse:6.49568                                                                                                  \n",
      "[7]\tvalidation-rmse:6.48153                                                                                                  \n",
      "[8]\tvalidation-rmse:6.47043                                                                                                  \n",
      "[9]\tvalidation-rmse:6.46391                                                                                                  \n",
      "[10]\tvalidation-rmse:6.45775                                                                                                 \n",
      "[11]\tvalidation-rmse:6.45170                                                                                                 \n",
      "[12]\tvalidation-rmse:6.44756                                                                                                 \n",
      "[13]\tvalidation-rmse:6.44074                                                                                                 \n",
      "[14]\tvalidation-rmse:6.43589                                                                                                 \n",
      "[15]\tvalidation-rmse:6.43333                                                                                                 \n",
      "[16]\tvalidation-rmse:6.42986                                                                                                 \n",
      "[17]\tvalidation-rmse:6.42542                                                                                                 \n",
      "[18]\tvalidation-rmse:6.42309                                                                                                 \n",
      "[19]\tvalidation-rmse:6.41942                                                                                                 \n",
      " 68%|█████████████████████████████████████▍                 | 34/50 [10:16<04:01, 15.09s/trial, best loss: 6.385342033494768]"
     ]
    },
    {
     "name": "stderr",
     "output_type": "stream",
     "text": [
      "/home/codespace/anaconda3/lib/python3.9/site-packages/xgboost/core.py:158: UserWarning: [21:29:51] WARNING: /workspace/src/objective/regression_obj.cu:227: reg:linear is now deprecated in favor of reg:squarederror.\n",
      "  warnings.warn(smsg, UserWarning)\n",
      "\n"
     ]
    },
    {
     "name": "stdout",
     "output_type": "stream",
     "text": [
      "[0]\tvalidation-rmse:9.87591                                                                                                  \n",
      "[1]\tvalidation-rmse:8.44792                                                                                                  \n",
      "[2]\tvalidation-rmse:7.60839                                                                                                  \n",
      "[3]\tvalidation-rmse:7.13207                                                                                                  \n",
      "[4]\tvalidation-rmse:6.86278                                                                                                  \n",
      "[5]\tvalidation-rmse:6.70571                                                                                                  \n",
      "[6]\tvalidation-rmse:6.60587                                                                                                  \n",
      "[7]\tvalidation-rmse:6.54856                                                                                                  \n",
      "[8]\tvalidation-rmse:6.50826                                                                                                  \n",
      "[9]\tvalidation-rmse:6.48469                                                                                                  \n",
      "[10]\tvalidation-rmse:6.46786                                                                                                 \n",
      "[11]\tvalidation-rmse:6.45382                                                                                                 \n",
      "[12]\tvalidation-rmse:6.44325                                                                                                 \n",
      "[13]\tvalidation-rmse:6.43672                                                                                                 \n",
      "[14]\tvalidation-rmse:6.42770                                                                                                 \n",
      "[15]\tvalidation-rmse:6.42076                                                                                                 \n",
      "[16]\tvalidation-rmse:6.41766                                                                                                 \n",
      "[17]\tvalidation-rmse:6.41301                                                                                                 \n",
      "[18]\tvalidation-rmse:6.41087                                                                                                 \n",
      "[19]\tvalidation-rmse:6.40813                                                                                                 \n",
      " 70%|██████████████████████████████████████▌                | 35/50 [10:48<05:00, 20.05s/trial, best loss: 6.385342033494768]"
     ]
    },
    {
     "name": "stderr",
     "output_type": "stream",
     "text": [
      "/home/codespace/anaconda3/lib/python3.9/site-packages/xgboost/core.py:158: UserWarning: [21:30:23] WARNING: /workspace/src/objective/regression_obj.cu:227: reg:linear is now deprecated in favor of reg:squarederror.\n",
      "  warnings.warn(smsg, UserWarning)\n",
      "\n"
     ]
    },
    {
     "name": "stdout",
     "output_type": "stream",
     "text": [
      "[0]\tvalidation-rmse:9.45143                                                                                                  \n",
      "[1]\tvalidation-rmse:8.01815                                                                                                  \n",
      "[2]\tvalidation-rmse:7.27969                                                                                                  \n",
      "[3]\tvalidation-rmse:6.95010                                                                                                  \n",
      "[4]\tvalidation-rmse:6.75672                                                                                                  \n",
      "[5]\tvalidation-rmse:6.67089                                                                                                  \n",
      "[6]\tvalidation-rmse:6.61417                                                                                                  \n",
      "[7]\tvalidation-rmse:6.58741                                                                                                  \n",
      "[8]\tvalidation-rmse:6.56790                                                                                                  \n",
      "[9]\tvalidation-rmse:6.55642                                                                                                  \n",
      "[10]\tvalidation-rmse:6.54806                                                                                                 \n",
      "[11]\tvalidation-rmse:6.53795                                                                                                 \n",
      "[12]\tvalidation-rmse:6.53533                                                                                                 \n",
      "[13]\tvalidation-rmse:6.53199                                                                                                 \n",
      "[14]\tvalidation-rmse:6.52716                                                                                                 \n",
      "[15]\tvalidation-rmse:6.52338                                                                                                 \n",
      "[16]\tvalidation-rmse:6.51936                                                                                                 \n",
      "[17]\tvalidation-rmse:6.51462                                                                                                 \n",
      "[18]\tvalidation-rmse:6.51194                                                                                                 \n",
      "[19]\tvalidation-rmse:6.51030                                                                                                 \n",
      " 72%|███████████████████████████████████████▌               | 36/50 [11:31<06:18, 27.05s/trial, best loss: 6.385342033494768]"
     ]
    },
    {
     "name": "stderr",
     "output_type": "stream",
     "text": [
      "/home/codespace/anaconda3/lib/python3.9/site-packages/xgboost/core.py:158: UserWarning: [21:31:06] WARNING: /workspace/src/objective/regression_obj.cu:227: reg:linear is now deprecated in favor of reg:squarederror.\n",
      "  warnings.warn(smsg, UserWarning)\n",
      "\n"
     ]
    },
    {
     "name": "stdout",
     "output_type": "stream",
     "text": [
      "[0]\tvalidation-rmse:10.34719                                                                                                 \n",
      "[1]\tvalidation-rmse:9.06177                                                                                                  \n",
      "[2]\tvalidation-rmse:8.19794                                                                                                  \n",
      "[3]\tvalidation-rmse:7.63008                                                                                                  \n",
      "[4]\tvalidation-rmse:7.26157                                                                                                  \n",
      "[5]\tvalidation-rmse:7.02219                                                                                                  \n",
      "[6]\tvalidation-rmse:6.86806                                                                                                  \n",
      "[7]\tvalidation-rmse:6.76487                                                                                                  \n",
      "[8]\tvalidation-rmse:6.69562                                                                                                  \n",
      "[9]\tvalidation-rmse:6.64733                                                                                                  \n",
      "[10]\tvalidation-rmse:6.61047                                                                                                 \n",
      "[11]\tvalidation-rmse:6.58589                                                                                                 \n",
      "[12]\tvalidation-rmse:6.56409                                                                                                 \n",
      "[13]\tvalidation-rmse:6.55084                                                                                                 \n",
      "[14]\tvalidation-rmse:6.53898                                                                                                 \n",
      "[15]\tvalidation-rmse:6.52993                                                                                                 \n",
      "[16]\tvalidation-rmse:6.52233                                                                                                 \n",
      "[17]\tvalidation-rmse:6.51174                                                                                                 \n",
      "[18]\tvalidation-rmse:6.50673                                                                                                 \n",
      "[19]\tvalidation-rmse:6.50077                                                                                                 \n",
      " 74%|████████████████████████████████████████▋              | 37/50 [11:50<05:18, 24.46s/trial, best loss: 6.385342033494768]"
     ]
    },
    {
     "name": "stderr",
     "output_type": "stream",
     "text": [
      "/home/codespace/anaconda3/lib/python3.9/site-packages/xgboost/core.py:158: UserWarning: [21:31:25] WARNING: /workspace/src/objective/regression_obj.cu:227: reg:linear is now deprecated in favor of reg:squarederror.\n",
      "  warnings.warn(smsg, UserWarning)\n",
      "\n"
     ]
    },
    {
     "name": "stdout",
     "output_type": "stream",
     "text": [
      "[0]\tvalidation-rmse:8.32183                                                                                                  \n",
      "[1]\tvalidation-rmse:7.07743                                                                                                  \n",
      "[2]\tvalidation-rmse:6.70213                                                                                                  \n",
      "[3]\tvalidation-rmse:6.57398                                                                                                  \n",
      "[4]\tvalidation-rmse:6.52216                                                                                                  \n",
      "[5]\tvalidation-rmse:6.49246                                                                                                  \n",
      "[6]\tvalidation-rmse:6.48001                                                                                                  \n",
      "[7]\tvalidation-rmse:6.46883                                                                                                  \n",
      "[8]\tvalidation-rmse:6.46484                                                                                                  \n",
      "[9]\tvalidation-rmse:6.45876                                                                                                  \n",
      "[10]\tvalidation-rmse:6.45615                                                                                                 \n",
      "[11]\tvalidation-rmse:6.45136                                                                                                 \n",
      "[12]\tvalidation-rmse:6.44604                                                                                                 \n",
      "[13]\tvalidation-rmse:6.44247                                                                                                 \n",
      "[14]\tvalidation-rmse:6.43989                                                                                                 \n",
      "[15]\tvalidation-rmse:6.43729                                                                                                 \n",
      "[16]\tvalidation-rmse:6.43271                                                                                                 \n",
      "[17]\tvalidation-rmse:6.42364                                                                                                 \n",
      "[18]\tvalidation-rmse:6.42158                                                                                                 \n",
      "[19]\tvalidation-rmse:6.41836                                                                                                 \n",
      " 76%|█████████████████████████████████████████▊             | 38/50 [12:03<04:11, 20.97s/trial, best loss: 6.385342033494768]"
     ]
    },
    {
     "name": "stderr",
     "output_type": "stream",
     "text": [
      "/home/codespace/anaconda3/lib/python3.9/site-packages/xgboost/core.py:158: UserWarning: [21:31:38] WARNING: /workspace/src/objective/regression_obj.cu:227: reg:linear is now deprecated in favor of reg:squarederror.\n",
      "  warnings.warn(smsg, UserWarning)\n",
      "\n"
     ]
    },
    {
     "name": "stdout",
     "output_type": "stream",
     "text": [
      "[0]\tvalidation-rmse:7.49772                                                                                                  \n",
      "[1]\tvalidation-rmse:6.81894                                                                                                  \n",
      "[2]\tvalidation-rmse:6.68855                                                                                                  \n",
      "[3]\tvalidation-rmse:6.64657                                                                                                  \n",
      "[4]\tvalidation-rmse:6.62334                                                                                                  \n",
      "[5]\tvalidation-rmse:6.61062                                                                                                  \n",
      "[6]\tvalidation-rmse:6.60608                                                                                                  \n",
      "[7]\tvalidation-rmse:6.60011                                                                                                  \n",
      "[8]\tvalidation-rmse:6.59654                                                                                                  \n",
      "[9]\tvalidation-rmse:6.59223                                                                                                  \n",
      "[10]\tvalidation-rmse:6.59016                                                                                                 \n",
      "[11]\tvalidation-rmse:6.58773                                                                                                 \n",
      "[12]\tvalidation-rmse:6.58755                                                                                                 \n",
      "[13]\tvalidation-rmse:6.58476                                                                                                 \n",
      "[14]\tvalidation-rmse:6.58387                                                                                                 \n",
      "[15]\tvalidation-rmse:6.58284                                                                                                 \n",
      "[16]\tvalidation-rmse:6.58325                                                                                                 \n",
      "[17]\tvalidation-rmse:6.58214                                                                                                 \n",
      "[18]\tvalidation-rmse:6.58132                                                                                                 \n",
      "[19]\tvalidation-rmse:6.58078                                                                                                 \n",
      " 78%|██████████████████████████████████████████▉            | 39/50 [12:10<03:05, 16.91s/trial, best loss: 6.385342033494768]"
     ]
    },
    {
     "name": "stderr",
     "output_type": "stream",
     "text": [
      "/home/codespace/anaconda3/lib/python3.9/site-packages/xgboost/core.py:158: UserWarning: [21:31:45] WARNING: /workspace/src/objective/regression_obj.cu:227: reg:linear is now deprecated in favor of reg:squarederror.\n",
      "  warnings.warn(smsg, UserWarning)\n",
      "\n"
     ]
    },
    {
     "name": "stdout",
     "output_type": "stream",
     "text": [
      "[0]\tvalidation-rmse:8.05303                                                                                                  \n",
      "[1]\tvalidation-rmse:6.92798                                                                                                  \n",
      "[2]\tvalidation-rmse:6.63372                                                                                                  \n",
      "[3]\tvalidation-rmse:6.53791                                                                                                  \n",
      "[4]\tvalidation-rmse:6.49769                                                                                                  \n",
      "[5]\tvalidation-rmse:6.47336                                                                                                  \n",
      "[6]\tvalidation-rmse:6.45809                                                                                                  \n",
      "[7]\tvalidation-rmse:6.45339                                                                                                  \n",
      "[8]\tvalidation-rmse:6.44798                                                                                                  \n",
      "[9]\tvalidation-rmse:6.44488                                                                                                  \n",
      "[10]\tvalidation-rmse:6.44058                                                                                                 \n",
      "[11]\tvalidation-rmse:6.43611                                                                                                 \n",
      "[12]\tvalidation-rmse:6.42965                                                                                                 \n",
      "[13]\tvalidation-rmse:6.42186                                                                                                 \n",
      "[14]\tvalidation-rmse:6.42077                                                                                                 \n",
      "[15]\tvalidation-rmse:6.41944                                                                                                 \n",
      "[16]\tvalidation-rmse:6.41818                                                                                                 \n",
      "[17]\tvalidation-rmse:6.41457                                                                                                 \n",
      "[18]\tvalidation-rmse:6.41337                                                                                                 \n",
      "[19]\tvalidation-rmse:6.41044                                                                                                 \n",
      " 80%|████████████████████████████████████████████           | 40/50 [12:24<02:40, 16.09s/trial, best loss: 6.385342033494768]"
     ]
    },
    {
     "name": "stderr",
     "output_type": "stream",
     "text": [
      "/home/codespace/anaconda3/lib/python3.9/site-packages/xgboost/core.py:158: UserWarning: [21:31:59] WARNING: /workspace/src/objective/regression_obj.cu:227: reg:linear is now deprecated in favor of reg:squarederror.\n",
      "  warnings.warn(smsg, UserWarning)\n",
      "\n"
     ]
    },
    {
     "name": "stdout",
     "output_type": "stream",
     "text": [
      "[0]\tvalidation-rmse:9.70408                                                                                                  \n",
      "[1]\tvalidation-rmse:8.28014                                                                                                  \n",
      "[2]\tvalidation-rmse:7.51190                                                                                                  \n",
      "[3]\tvalidation-rmse:7.10554                                                                                                  \n",
      "[4]\tvalidation-rmse:6.88471                                                                                                  \n",
      "[5]\tvalidation-rmse:6.75959                                                                                                  \n",
      "[6]\tvalidation-rmse:6.68652                                                                                                  \n",
      "[7]\tvalidation-rmse:6.64282                                                                                                  \n",
      "[8]\tvalidation-rmse:6.61711                                                                                                  \n",
      "[9]\tvalidation-rmse:6.59885                                                                                                  \n",
      "[10]\tvalidation-rmse:6.58560                                                                                                 \n",
      "[11]\tvalidation-rmse:6.57519                                                                                                 \n",
      "[12]\tvalidation-rmse:6.56257                                                                                                 \n",
      "[13]\tvalidation-rmse:6.55626                                                                                                 \n",
      "[14]\tvalidation-rmse:6.55168                                                                                                 \n",
      "[15]\tvalidation-rmse:6.54552                                                                                                 \n",
      "[16]\tvalidation-rmse:6.54306                                                                                                 \n",
      "[17]\tvalidation-rmse:6.54163                                                                                                 \n",
      "[18]\tvalidation-rmse:6.53891                                                                                                 \n",
      "[19]\tvalidation-rmse:6.53681                                                                                                 \n",
      " 82%|█████████████████████████████████████████████          | 41/50 [12:35<02:11, 14.61s/trial, best loss: 6.385342033494768]"
     ]
    },
    {
     "name": "stderr",
     "output_type": "stream",
     "text": [
      "/home/codespace/anaconda3/lib/python3.9/site-packages/xgboost/core.py:158: UserWarning: [21:32:10] WARNING: /workspace/src/objective/regression_obj.cu:227: reg:linear is now deprecated in favor of reg:squarederror.\n",
      "  warnings.warn(smsg, UserWarning)\n",
      "\n"
     ]
    },
    {
     "name": "stdout",
     "output_type": "stream",
     "text": [
      "[0]\tvalidation-rmse:10.56768                                                                                                 \n",
      "[1]\tvalidation-rmse:9.37919                                                                                                  \n",
      "[2]\tvalidation-rmse:8.53128                                                                                                  \n",
      "[3]\tvalidation-rmse:7.94364                                                                                                  \n",
      "[4]\tvalidation-rmse:7.53732                                                                                                  \n",
      "[5]\tvalidation-rmse:7.25755                                                                                                  \n",
      "[6]\tvalidation-rmse:7.06741                                                                                                  \n",
      "[7]\tvalidation-rmse:6.93838                                                                                                  \n",
      "[8]\tvalidation-rmse:6.84558                                                                                                  \n",
      "[9]\tvalidation-rmse:6.78209                                                                                                  \n",
      "[10]\tvalidation-rmse:6.73539                                                                                                 \n",
      "[11]\tvalidation-rmse:6.70186                                                                                                 \n",
      "[12]\tvalidation-rmse:6.67747                                                                                                 \n",
      "[13]\tvalidation-rmse:6.65700                                                                                                 \n",
      "[14]\tvalidation-rmse:6.64197                                                                                                 \n",
      "[15]\tvalidation-rmse:6.63068                                                                                                 \n",
      "[16]\tvalidation-rmse:6.62158                                                                                                 \n",
      "[17]\tvalidation-rmse:6.61430                                                                                                 \n",
      "[18]\tvalidation-rmse:6.60893                                                                                                 \n",
      "[19]\tvalidation-rmse:6.60347                                                                                                 \n",
      " 84%|██████████████████████████████████████████████▏        | 42/50 [12:42<01:37, 12.18s/trial, best loss: 6.385342033494768]"
     ]
    },
    {
     "name": "stderr",
     "output_type": "stream",
     "text": [
      "/home/codespace/anaconda3/lib/python3.9/site-packages/xgboost/core.py:158: UserWarning: [21:32:17] WARNING: /workspace/src/objective/regression_obj.cu:227: reg:linear is now deprecated in favor of reg:squarederror.\n",
      "  warnings.warn(smsg, UserWarning)\n",
      "\n"
     ]
    },
    {
     "name": "stdout",
     "output_type": "stream",
     "text": [
      "[0]\tvalidation-rmse:7.21397                                                                                                  \n",
      "[1]\tvalidation-rmse:6.75512                                                                                                  \n",
      "[2]\tvalidation-rmse:6.68583                                                                                                  \n",
      "[3]\tvalidation-rmse:6.66866                                                                                                  \n",
      "[4]\tvalidation-rmse:6.65297                                                                                                  \n",
      "[5]\tvalidation-rmse:6.64350                                                                                                  \n",
      "[6]\tvalidation-rmse:6.64043                                                                                                  \n",
      "[7]\tvalidation-rmse:6.63918                                                                                                  \n",
      "[8]\tvalidation-rmse:6.63228                                                                                                  \n",
      "[9]\tvalidation-rmse:6.62678                                                                                                  \n",
      "[10]\tvalidation-rmse:6.62563                                                                                                 \n",
      "[11]\tvalidation-rmse:6.62277                                                                                                 \n",
      "[12]\tvalidation-rmse:6.62131                                                                                                 \n",
      "[13]\tvalidation-rmse:6.61908                                                                                                 \n",
      "[14]\tvalidation-rmse:6.61398                                                                                                 \n",
      "[15]\tvalidation-rmse:6.61119                                                                                                 \n",
      "[16]\tvalidation-rmse:6.61009                                                                                                 \n",
      "[17]\tvalidation-rmse:6.61142                                                                                                 \n",
      "[18]\tvalidation-rmse:6.60938                                                                                                 \n",
      "[19]\tvalidation-rmse:6.60812                                                                                                 \n",
      " 86%|███████████████████████████████████████████████▎       | 43/50 [12:57<01:32, 13.18s/trial, best loss: 6.385342033494768]"
     ]
    },
    {
     "name": "stderr",
     "output_type": "stream",
     "text": [
      "/home/codespace/anaconda3/lib/python3.9/site-packages/xgboost/core.py:158: UserWarning: [21:32:32] WARNING: /workspace/src/objective/regression_obj.cu:227: reg:linear is now deprecated in favor of reg:squarederror.\n",
      "  warnings.warn(smsg, UserWarning)\n",
      "\n"
     ]
    },
    {
     "name": "stdout",
     "output_type": "stream",
     "text": [
      "[0]\tvalidation-rmse:8.73283                                                                                                  \n",
      "[1]\tvalidation-rmse:7.39695                                                                                                  \n",
      "[2]\tvalidation-rmse:6.91102                                                                                                  \n",
      "[3]\tvalidation-rmse:6.72780                                                                                                  \n",
      "[4]\tvalidation-rmse:6.65158                                                                                                  \n",
      "[5]\tvalidation-rmse:6.61657                                                                                                  \n",
      "[6]\tvalidation-rmse:6.59616                                                                                                  \n",
      "[7]\tvalidation-rmse:6.58272                                                                                                  \n",
      "[8]\tvalidation-rmse:6.57321                                                                                                  \n",
      "[9]\tvalidation-rmse:6.57008                                                                                                  \n",
      "[10]\tvalidation-rmse:6.56598                                                                                                 \n",
      "[11]\tvalidation-rmse:6.55832                                                                                                 \n",
      "[12]\tvalidation-rmse:6.55155                                                                                                 \n",
      "[13]\tvalidation-rmse:6.54840                                                                                                 \n",
      "[14]\tvalidation-rmse:6.54623                                                                                                 \n",
      "[15]\tvalidation-rmse:6.54323                                                                                                 \n",
      "[16]\tvalidation-rmse:6.54022                                                                                                 \n",
      "[17]\tvalidation-rmse:6.53721                                                                                                 \n",
      "[18]\tvalidation-rmse:6.53417                                                                                                 \n",
      "[19]\tvalidation-rmse:6.53143                                                                                                 \n",
      " 88%|████████████████████████████████████████████████▍      | 44/50 [13:20<01:36, 16.13s/trial, best loss: 6.385342033494768]"
     ]
    },
    {
     "name": "stderr",
     "output_type": "stream",
     "text": [
      "/home/codespace/anaconda3/lib/python3.9/site-packages/xgboost/core.py:158: UserWarning: [21:32:55] WARNING: /workspace/src/objective/regression_obj.cu:227: reg:linear is now deprecated in favor of reg:squarederror.\n",
      "  warnings.warn(smsg, UserWarning)\n",
      "\n"
     ]
    },
    {
     "name": "stdout",
     "output_type": "stream",
     "text": [
      "[0]\tvalidation-rmse:10.82861                                                                                                 \n",
      "[1]\tvalidation-rmse:9.76625                                                                                                  \n",
      "[2]\tvalidation-rmse:8.96227                                                                                                  \n",
      "[3]\tvalidation-rmse:8.36200                                                                                                  \n",
      "[4]\tvalidation-rmse:7.91904                                                                                                  \n",
      "[5]\tvalidation-rmse:7.59427                                                                                                  \n",
      "[6]\tvalidation-rmse:7.35642                                                                                                  \n",
      "[7]\tvalidation-rmse:7.18426                                                                                                  \n",
      "[8]\tvalidation-rmse:7.05786                                                                                                  \n",
      "[9]\tvalidation-rmse:6.96652                                                                                                  \n",
      "[10]\tvalidation-rmse:6.89876                                                                                                 \n",
      "[11]\tvalidation-rmse:6.84477                                                                                                 \n",
      "[12]\tvalidation-rmse:6.80498                                                                                                 \n",
      "[13]\tvalidation-rmse:6.77375                                                                                                 \n",
      "[14]\tvalidation-rmse:6.74924                                                                                                 \n",
      "[15]\tvalidation-rmse:6.72923                                                                                                 \n",
      "[16]\tvalidation-rmse:6.71403                                                                                                 \n",
      "[17]\tvalidation-rmse:6.70199                                                                                                 \n",
      "[18]\tvalidation-rmse:6.69126                                                                                                 \n",
      "[19]\tvalidation-rmse:6.68184                                                                                                 \n",
      " 90%|█████████████████████████████████████████████████▌     | 45/50 [13:34<01:17, 15.52s/trial, best loss: 6.385342033494768]"
     ]
    },
    {
     "name": "stderr",
     "output_type": "stream",
     "text": [
      "/home/codespace/anaconda3/lib/python3.9/site-packages/xgboost/core.py:158: UserWarning: [21:33:09] WARNING: /workspace/src/objective/regression_obj.cu:227: reg:linear is now deprecated in favor of reg:squarederror.\n",
      "  warnings.warn(smsg, UserWarning)\n",
      "\n"
     ]
    },
    {
     "name": "stdout",
     "output_type": "stream",
     "text": [
      "[0]\tvalidation-rmse:11.17397                                                                                                 \n",
      "[1]\tvalidation-rmse:10.31195                                                                                                 \n",
      "[2]\tvalidation-rmse:9.59889                                                                                                  \n",
      "[3]\tvalidation-rmse:9.01614                                                                                                  \n",
      "[4]\tvalidation-rmse:8.54204                                                                                                  \n",
      "[5]\tvalidation-rmse:8.15305                                                                                                  \n",
      "[6]\tvalidation-rmse:7.83361                                                                                                  \n",
      "[7]\tvalidation-rmse:7.58652                                                                                                  \n",
      "[8]\tvalidation-rmse:7.39404                                                                                                  \n",
      "[9]\tvalidation-rmse:7.22171                                                                                                  \n",
      "[10]\tvalidation-rmse:7.09999                                                                                                 \n",
      "[11]\tvalidation-rmse:6.99898                                                                                                 \n",
      "[12]\tvalidation-rmse:6.91959                                                                                                 \n",
      "[13]\tvalidation-rmse:6.85309                                                                                                 \n",
      "[14]\tvalidation-rmse:6.80130                                                                                                 \n",
      "[15]\tvalidation-rmse:6.75279                                                                                                 \n",
      "[16]\tvalidation-rmse:6.71930                                                                                                 \n",
      "[17]\tvalidation-rmse:6.68963                                                                                                 \n",
      "[18]\tvalidation-rmse:6.66233                                                                                                 \n",
      "[19]\tvalidation-rmse:6.64505                                                                                                 \n",
      " 92%|██████████████████████████████████████████████████▌    | 46/50 [15:18<02:47, 41.80s/trial, best loss: 6.385342033494768]"
     ]
    },
    {
     "name": "stderr",
     "output_type": "stream",
     "text": [
      "/home/codespace/anaconda3/lib/python3.9/site-packages/xgboost/core.py:158: UserWarning: [21:34:53] WARNING: /workspace/src/objective/regression_obj.cu:227: reg:linear is now deprecated in favor of reg:squarederror.\n",
      "  warnings.warn(smsg, UserWarning)\n",
      "\n"
     ]
    },
    {
     "name": "stdout",
     "output_type": "stream",
     "text": [
      "[0]\tvalidation-rmse:7.61907                                                                                                  \n",
      "[1]\tvalidation-rmse:6.73561                                                                                                  \n",
      "[2]\tvalidation-rmse:6.54986                                                                                                  \n",
      "[3]\tvalidation-rmse:6.49572                                                                                                  \n",
      "[4]\tvalidation-rmse:6.47432                                                                                                  \n",
      "[5]\tvalidation-rmse:6.45521                                                                                                  \n",
      "[6]\tvalidation-rmse:6.44487                                                                                                  \n",
      "[7]\tvalidation-rmse:6.43825                                                                                                  \n",
      "[8]\tvalidation-rmse:6.43314                                                                                                  \n",
      "[9]\tvalidation-rmse:6.43068                                                                                                  \n",
      "[10]\tvalidation-rmse:6.42544                                                                                                 \n",
      "[11]\tvalidation-rmse:6.42032                                                                                                 \n",
      "[12]\tvalidation-rmse:6.41673                                                                                                 \n",
      "[13]\tvalidation-rmse:6.41073                                                                                                 \n",
      "[14]\tvalidation-rmse:6.41007                                                                                                 \n",
      "[15]\tvalidation-rmse:6.40087                                                                                                 \n",
      "[16]\tvalidation-rmse:6.39900                                                                                                 \n",
      "[17]\tvalidation-rmse:6.39634                                                                                                 \n",
      "[18]\tvalidation-rmse:6.39503                                                                                                 \n",
      "[19]\tvalidation-rmse:6.39154                                                                                                 \n",
      " 94%|███████████████████████████████████████████████████▋   | 47/50 [15:31<01:40, 33.37s/trial, best loss: 6.385342033494768]"
     ]
    },
    {
     "name": "stderr",
     "output_type": "stream",
     "text": [
      "/home/codespace/anaconda3/lib/python3.9/site-packages/xgboost/core.py:158: UserWarning: [21:35:06] WARNING: /workspace/src/objective/regression_obj.cu:227: reg:linear is now deprecated in favor of reg:squarederror.\n",
      "  warnings.warn(smsg, UserWarning)\n",
      "\n"
     ]
    },
    {
     "name": "stdout",
     "output_type": "stream",
     "text": [
      "[0]\tvalidation-rmse:9.14814                                                                                                  \n",
      "[1]\tvalidation-rmse:7.68737                                                                                                  \n",
      "[2]\tvalidation-rmse:7.03451                                                                                                  \n",
      "[3]\tvalidation-rmse:6.74803                                                                                                  \n",
      "[4]\tvalidation-rmse:6.61317                                                                                                  \n",
      "[5]\tvalidation-rmse:6.54237                                                                                                  \n",
      "[6]\tvalidation-rmse:6.50168                                                                                                  \n",
      "[7]\tvalidation-rmse:6.47900                                                                                                  \n",
      "[8]\tvalidation-rmse:6.46425                                                                                                  \n",
      "[9]\tvalidation-rmse:6.45684                                                                                                  \n",
      "[10]\tvalidation-rmse:6.44859                                                                                                 \n",
      "[11]\tvalidation-rmse:6.44548                                                                                                 \n",
      "[12]\tvalidation-rmse:6.44255                                                                                                 \n",
      "[13]\tvalidation-rmse:6.44035                                                                                                 \n",
      "[14]\tvalidation-rmse:6.43347                                                                                                 \n",
      "[15]\tvalidation-rmse:6.43089                                                                                                 \n",
      "[16]\tvalidation-rmse:6.42651                                                                                                 \n",
      "[17]\tvalidation-rmse:6.42113                                                                                                 \n",
      "[18]\tvalidation-rmse:6.41795                                                                                                 \n",
      "[19]\tvalidation-rmse:6.41533                                                                                                 \n",
      " 96%|████████████████████████████████████████████████████▊  | 48/50 [15:50<00:58, 29.12s/trial, best loss: 6.385342033494768]"
     ]
    },
    {
     "name": "stderr",
     "output_type": "stream",
     "text": [
      "/home/codespace/anaconda3/lib/python3.9/site-packages/xgboost/core.py:158: UserWarning: [21:35:25] WARNING: /workspace/src/objective/regression_obj.cu:227: reg:linear is now deprecated in favor of reg:squarederror.\n",
      "  warnings.warn(smsg, UserWarning)\n",
      "\n"
     ]
    },
    {
     "name": "stdout",
     "output_type": "stream",
     "text": [
      "[0]\tvalidation-rmse:10.22662                                                                                                 \n",
      "[1]\tvalidation-rmse:8.90842                                                                                                  \n",
      "[2]\tvalidation-rmse:8.05828                                                                                                  \n",
      "[3]\tvalidation-rmse:7.52050                                                                                                  \n",
      "[4]\tvalidation-rmse:7.18957                                                                                                  \n",
      "[5]\tvalidation-rmse:6.98319                                                                                                  \n",
      "[6]\tvalidation-rmse:6.85346                                                                                                  \n",
      "[7]\tvalidation-rmse:6.76981                                                                                                  \n",
      "[8]\tvalidation-rmse:6.71567                                                                                                  \n",
      "[9]\tvalidation-rmse:6.67914                                                                                                  \n",
      "[10]\tvalidation-rmse:6.65276                                                                                                 \n",
      "[11]\tvalidation-rmse:6.63182                                                                                                 \n",
      "[12]\tvalidation-rmse:6.61876                                                                                                 \n",
      "[13]\tvalidation-rmse:6.60688                                                                                                 \n",
      "[14]\tvalidation-rmse:6.59888                                                                                                 \n",
      "[15]\tvalidation-rmse:6.59236                                                                                                 \n",
      "[16]\tvalidation-rmse:6.58743                                                                                                 \n",
      "[17]\tvalidation-rmse:6.58325                                                                                                 \n",
      "[18]\tvalidation-rmse:6.58172                                                                                                 \n",
      "[19]\tvalidation-rmse:6.57822                                                                                                 \n",
      " 98%|█████████████████████████████████████████████████████▉ | 49/50 [15:56<00:22, 22.06s/trial, best loss: 6.385342033494768]"
     ]
    },
    {
     "name": "stderr",
     "output_type": "stream",
     "text": [
      "/home/codespace/anaconda3/lib/python3.9/site-packages/xgboost/core.py:158: UserWarning: [21:35:31] WARNING: /workspace/src/objective/regression_obj.cu:227: reg:linear is now deprecated in favor of reg:squarederror.\n",
      "  warnings.warn(smsg, UserWarning)\n",
      "\n"
     ]
    },
    {
     "name": "stdout",
     "output_type": "stream",
     "text": [
      "[0]\tvalidation-rmse:6.62008                                                                                                  \n",
      "[1]\tvalidation-rmse:6.61049                                                                                                  \n",
      "[2]\tvalidation-rmse:6.59390                                                                                                  \n",
      "[3]\tvalidation-rmse:6.58646                                                                                                  \n",
      "[4]\tvalidation-rmse:6.57933                                                                                                  \n",
      "[5]\tvalidation-rmse:6.56923                                                                                                  \n",
      "[6]\tvalidation-rmse:6.56058                                                                                                  \n",
      "[7]\tvalidation-rmse:6.54678                                                                                                  \n",
      "[8]\tvalidation-rmse:6.54044                                                                                                  \n",
      "[9]\tvalidation-rmse:6.53383                                                                                                  \n",
      "[10]\tvalidation-rmse:6.53470                                                                                                 \n",
      "[11]\tvalidation-rmse:6.52495                                                                                                 \n",
      "[12]\tvalidation-rmse:6.51812                                                                                                 \n",
      "[13]\tvalidation-rmse:6.51463                                                                                                 \n",
      "[14]\tvalidation-rmse:6.51268                                                                                                 \n",
      "[15]\tvalidation-rmse:6.50646                                                                                                 \n",
      "[16]\tvalidation-rmse:6.49847                                                                                                 \n",
      "[17]\tvalidation-rmse:6.49572                                                                                                 \n",
      "[18]\tvalidation-rmse:6.49002                                                                                                 \n",
      "[19]\tvalidation-rmse:6.48503                                                                                                 \n",
      "100%|███████████████████████████████████████████████████████| 50/50 [16:02<00:00, 19.24s/trial, best loss: 6.385342033494768]\n"
     ]
    }
   ],
   "source": [
    "search_space = {\n",
    "    'max_depth': scope.int(hp.quniform('max_depth', 4, 100, 1)),\n",
    "    'learning_rate': hp.loguniform('learning_rate', -3, 0),\n",
    "    'reg_alpha': hp.loguniform('reg_alpha', -5, -1),\n",
    "    'reg_lambda': hp.loguniform('reg_lambda', -6, -1),\n",
    "    'min_child_weight': hp.loguniform('min_child_weight', -1, 3),\n",
    "    'objective': 'reg:linear',\n",
    "    'seed': 42\n",
    "}\n",
    "\n",
    "best_result = fmin(\n",
    "    fn=objective,\n",
    "    space=search_space,\n",
    "    algo=tpe.suggest,\n",
    "    max_evals=50,\n",
    "    trials=Trials()\n",
    ")"
   ]
  },
  {
   "cell_type": "code",
   "execution_count": null,
   "id": "3bdc53d6",
   "metadata": {},
   "outputs": [],
   "source": []
  }
 ],
 "metadata": {
  "kernelspec": {
   "display_name": "Python 3 (ipykernel)",
   "language": "python",
   "name": "python3"
  },
  "language_info": {
   "codemirror_mode": {
    "name": "ipython",
    "version": 3
   },
   "file_extension": ".py",
   "mimetype": "text/x-python",
   "name": "python",
   "nbconvert_exporter": "python",
   "pygments_lexer": "ipython3",
   "version": "3.9.12"
  }
 },
 "nbformat": 4,
 "nbformat_minor": 5
}
